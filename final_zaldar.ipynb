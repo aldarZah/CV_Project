{
 "cells": [
  {
   "cell_type": "code",
   "execution_count": 1,
   "metadata": {},
   "outputs": [],
   "source": [
    "#libraries \n",
    "import tensorflow as tf\n",
    "import numpy as np\n",
    "import matplotlib.pyplot as plt\n",
    "from tensorflow import keras\n",
    "from keras import layers\n",
    "from keras.models import Sequential\n",
    "import cv2\n",
    "from keras.models import Model\n",
    "from keras.layers import Dropout\n",
    "from keras.layers import Flatten,BatchNormalization\n",
    "from keras.layers import Dense, MaxPooling2D,Conv2D\n",
    "from keras.layers import Activation,Add\n",
    "from keras.optimizers import Adam,SGD\n",
    "from keras.preprocessing.image import ImageDataGenerator\n",
    "from keras.callbacks import LearningRateScheduler\n",
    "from keras.regularizers import l2\n",
    "from keras.callbacks import ReduceLROnPlateau\n",
    "\n",
    "\n",
    "\n"
   ]
  },
  {
   "cell_type": "code",
   "execution_count": 2,
   "metadata": {},
   "outputs": [
    {
     "name": "stdout",
     "output_type": "stream",
     "text": [
      "Found 6323 images belonging to 6 classes.\n",
      "Found 6048 images belonging to 6 classes.\n",
      "Found 1430 images belonging to 6 classes.\n",
      "Found 1386 images belonging to 6 classes.\n"
     ]
    }
   ],
   "source": [
    "# loading the data and image preprocessing \n",
    "train_data_gen= ImageDataGenerator(rescale = 1./255, \n",
    "                                   )\n",
    "validation_data_gen= ImageDataGenerator(rescale = 1./255, \n",
    "\n",
    "                                   )\n",
    "testing_data_gen= ImageDataGenerator(rescale = 1./255, \n",
    "                                   )\n",
    "                                   \n",
    "training_set_model1 = train_data_gen.flow_from_directory('datasetforproject/training_datasets/model_women',\n",
    "                                                 target_size = (48,48), \n",
    "                                                 shuffle=True,\n",
    "                                                 color_mode = 'grayscale' , \n",
    "                                                 class_mode = 'categorical')\n",
    "\n",
    "training_set_model2 = train_data_gen.flow_from_directory('datasetforproject/training_datasets/model_men',\n",
    "                                                 target_size = (48,48), \n",
    "                                                 shuffle=True,\n",
    "                                                 color_mode = 'grayscale' , \n",
    "                                                 class_mode = 'categorical')\n",
    "\n",
    "val_model1 = validation_data_gen.flow_from_directory('datasetforproject/validation_dataset/women_model',\n",
    "                                                 target_size = (48,48), \n",
    "                                                 shuffle=True,\n",
    "                                                 color_mode = 'grayscale' , \n",
    "                                                 class_mode = 'categorical')\n",
    "\n",
    "val_model2 = validation_data_gen.flow_from_directory('datasetforproject/validation_dataset/men_model',\n",
    "                                                 target_size = (48,48), \n",
    "                                                 shuffle=True,\n",
    "                                                 color_mode = 'grayscale' , \n",
    "                                                 class_mode = 'categorical')\n",
    "\n"
   ]
  },
  {
   "cell_type": "code",
   "execution_count": 5,
   "metadata": {},
   "outputs": [
    {
     "name": "stdout",
     "output_type": "stream",
     "text": [
      "Model: \"sequential\"\n",
      "_________________________________________________________________\n",
      " Layer (type)                Output Shape              Param #   \n",
      "=================================================================\n",
      " conv2d (Conv2D)             (None, 46, 46, 32)        320       \n",
      "                                                                 \n",
      " batch_normalization (Batch  (None, 46, 46, 32)        128       \n",
      " Normalization)                                                  \n",
      "                                                                 \n",
      " max_pooling2d (MaxPooling2  (None, 23, 23, 32)        0         \n",
      " D)                                                              \n",
      "                                                                 \n",
      " conv2d_1 (Conv2D)           (None, 21, 21, 64)        18496     \n",
      "                                                                 \n",
      " batch_normalization_1 (Bat  (None, 21, 21, 64)        256       \n",
      " chNormalization)                                                \n",
      "                                                                 \n",
      " max_pooling2d_1 (MaxPoolin  (None, 10, 10, 64)        0         \n",
      " g2D)                                                            \n",
      "                                                                 \n",
      " conv2d_2 (Conv2D)           (None, 8, 8, 128)         73856     \n",
      "                                                                 \n",
      " batch_normalization_2 (Bat  (None, 8, 8, 128)         512       \n",
      " chNormalization)                                                \n",
      "                                                                 \n",
      " max_pooling2d_2 (MaxPoolin  (None, 4, 4, 128)         0         \n",
      " g2D)                                                            \n",
      "                                                                 \n",
      " conv2d_3 (Conv2D)           (None, 2, 2, 256)         295168    \n",
      "                                                                 \n",
      " batch_normalization_3 (Bat  (None, 2, 2, 256)         1024      \n",
      " chNormalization)                                                \n",
      "                                                                 \n",
      " max_pooling2d_3 (MaxPoolin  (None, 1, 1, 256)         0         \n",
      " g2D)                                                            \n",
      "                                                                 \n",
      " flatten (Flatten)           (None, 256)               0         \n",
      "                                                                 \n",
      " dense (Dense)               (None, 1024)              263168    \n",
      "                                                                 \n",
      " dense_1 (Dense)             (None, 6)                 6150      \n",
      "                                                                 \n",
      "=================================================================\n",
      "Total params: 659078 (2.51 MB)\n",
      "Trainable params: 658118 (2.51 MB)\n",
      "Non-trainable params: 960 (3.75 KB)\n",
      "_________________________________________________________________\n"
     ]
    }
   ],
   "source": [
    "#model 1- train for wmoen only \n",
    "# I want to build a model with 4 layers, increasing the number of filters as we go \n",
    "model1_cnn=Sequential()\n",
    "\n",
    "model1_cnn.add(Conv2D(filters = 32, kernel_size = 3, activation = 'relu',input_shape = [48,48,1]))\n",
    "model1_cnn.add(BatchNormalization())\n",
    "model1_cnn.add(MaxPooling2D(pool_size = 2, strides = 2))\n",
    "\n",
    "model1_cnn.add(Conv2D(filters = 64, kernel_size = 3, activation = 'relu',input_shape = [48,48,1]))\n",
    "model1_cnn.add(BatchNormalization())\n",
    "model1_cnn.add(MaxPooling2D(pool_size = 2, strides = 2))\n",
    "\n",
    "model1_cnn.add(Conv2D(filters = 128, kernel_size = 3, activation = 'relu',input_shape = [48,48,1]))\n",
    "model1_cnn.add(BatchNormalization())\n",
    "model1_cnn.add(MaxPooling2D(pool_size = 2, strides = 2))\n",
    "\n",
    "model1_cnn.add(Conv2D(filters = 256, kernel_size = 3, activation = 'relu',input_shape = [48,48,1]))\n",
    "model1_cnn.add(BatchNormalization())\n",
    "model1_cnn.add(MaxPooling2D(pool_size = 2, strides = 2))\n",
    "\n",
    "\n",
    "model1_cnn.add(Flatten())\n",
    "\n",
    "model1_cnn.add(Dense(1024,activation='relu'))\n",
    "\n",
    "model1_cnn.add(Dense(6,activation='softmax'))\n",
    "\n",
    "model1_cnn.summary()\n"
   ]
  },
  {
   "cell_type": "code",
   "execution_count": 18,
   "metadata": {},
   "outputs": [
    {
     "name": "stdout",
     "output_type": "stream",
     "text": [
      "Epoch 1/20\n",
      "198/198 [==============================] - 36s 164ms/step - loss: 1.7907 - accuracy: 0.2935 - val_loss: 2.6892 - val_accuracy: 0.1559\n",
      "Epoch 2/20\n",
      "198/198 [==============================] - 30s 151ms/step - loss: 1.4777 - accuracy: 0.4147 - val_loss: 1.6240 - val_accuracy: 0.3028\n",
      "Epoch 3/20\n",
      "198/198 [==============================] - 29s 148ms/step - loss: 1.3077 - accuracy: 0.4887 - val_loss: 1.3884 - val_accuracy: 0.4531\n",
      "Epoch 4/20\n",
      "198/198 [==============================] - 54s 271ms/step - loss: 1.1643 - accuracy: 0.5591 - val_loss: 1.3680 - val_accuracy: 0.4762\n",
      "Epoch 5/20\n",
      "198/198 [==============================] - 107s 539ms/step - loss: 1.0253 - accuracy: 0.6132 - val_loss: 1.5320 - val_accuracy: 0.4259\n",
      "Epoch 6/20\n",
      "198/198 [==============================] - 27s 137ms/step - loss: 0.8644 - accuracy: 0.6848 - val_loss: 1.5461 - val_accuracy: 0.4336\n",
      "Epoch 7/20\n",
      "198/198 [==============================] - 28s 143ms/step - loss: 0.6869 - accuracy: 0.7585 - val_loss: 1.8936 - val_accuracy: 0.4028\n",
      "Epoch 8/20\n",
      "198/198 [==============================] - 31s 158ms/step - loss: 0.5624 - accuracy: 0.8039 - val_loss: 1.9152 - val_accuracy: 0.4063\n",
      "Epoch 9/20\n",
      "198/198 [==============================] - 37s 185ms/step - loss: 0.4444 - accuracy: 0.8498 - val_loss: 2.0103 - val_accuracy: 0.4098\n",
      "Epoch 10/20\n",
      "198/198 [==============================] - 41s 209ms/step - loss: 0.3571 - accuracy: 0.8827 - val_loss: 2.1026 - val_accuracy: 0.4566\n",
      "Epoch 11/20\n",
      "198/198 [==============================] - 37s 187ms/step - loss: 0.3037 - accuracy: 0.8978 - val_loss: 2.1016 - val_accuracy: 0.4874\n",
      "Epoch 12/20\n",
      "198/198 [==============================] - 33s 167ms/step - loss: 0.2749 - accuracy: 0.9070 - val_loss: 2.2345 - val_accuracy: 0.4643\n",
      "Epoch 13/20\n",
      "198/198 [==============================] - 32s 159ms/step - loss: 0.2398 - accuracy: 0.9181 - val_loss: 2.1385 - val_accuracy: 0.4965\n",
      "Epoch 14/20\n",
      "198/198 [==============================] - 31s 158ms/step - loss: 0.1856 - accuracy: 0.9378 - val_loss: 2.0758 - val_accuracy: 0.4958\n",
      "Epoch 15/20\n",
      "198/198 [==============================] - 31s 159ms/step - loss: 0.1633 - accuracy: 0.9348 - val_loss: 2.1909 - val_accuracy: 0.4986\n",
      "Epoch 16/20\n",
      "198/198 [==============================] - 32s 160ms/step - loss: 0.1620 - accuracy: 0.9372 - val_loss: 2.6588 - val_accuracy: 0.4483\n",
      "Epoch 17/20\n",
      "198/198 [==============================] - 33s 167ms/step - loss: 0.1673 - accuracy: 0.9315 - val_loss: 2.6324 - val_accuracy: 0.4853\n",
      "Epoch 18/20\n",
      "198/198 [==============================] - 36s 181ms/step - loss: 0.1732 - accuracy: 0.9260 - val_loss: 2.9383 - val_accuracy: 0.4580\n",
      "Epoch 19/20\n",
      "198/198 [==============================] - 38s 192ms/step - loss: 0.1999 - accuracy: 0.9179 - val_loss: 2.9449 - val_accuracy: 0.4678\n",
      "Epoch 20/20\n",
      "198/198 [==============================] - 34s 174ms/step - loss: 0.2288 - accuracy: 0.9099 - val_loss: 2.4336 - val_accuracy: 0.4790\n"
     ]
    },
    {
     "data": {
      "text/plain": [
       "<keras.src.callbacks.History at 0x20182d27fd0>"
      ]
     },
     "execution_count": 18,
     "metadata": {},
     "output_type": "execute_result"
    }
   ],
   "source": [
    "#model1 compilation \n",
    "model1_cnn.compile(optimizer='adam',loss='categorical_crossentropy',metrics=['accuracy'])\n",
    "model1_cnn.fit(x=training_set_model1,validation_data=val_model1, epochs=20)\n"
   ]
  },
  {
   "cell_type": "code",
   "execution_count": 6,
   "metadata": {},
   "outputs": [
    {
     "name": "stdout",
     "output_type": "stream",
     "text": [
      "Model: \"sequential_1\"\n",
      "_________________________________________________________________\n",
      " Layer (type)                Output Shape              Param #   \n",
      "=================================================================\n",
      " conv2d_4 (Conv2D)           (None, 46, 46, 32)        320       \n",
      "                                                                 \n",
      " batch_normalization_4 (Bat  (None, 46, 46, 32)        128       \n",
      " chNormalization)                                                \n",
      "                                                                 \n",
      " max_pooling2d_4 (MaxPoolin  (None, 23, 23, 32)        0         \n",
      " g2D)                                                            \n",
      "                                                                 \n",
      " conv2d_5 (Conv2D)           (None, 21, 21, 64)        18496     \n",
      "                                                                 \n",
      " batch_normalization_5 (Bat  (None, 21, 21, 64)        256       \n",
      " chNormalization)                                                \n",
      "                                                                 \n",
      " max_pooling2d_5 (MaxPoolin  (None, 10, 10, 64)        0         \n",
      " g2D)                                                            \n",
      "                                                                 \n",
      " conv2d_6 (Conv2D)           (None, 8, 8, 128)         73856     \n",
      "                                                                 \n",
      " batch_normalization_6 (Bat  (None, 8, 8, 128)         512       \n",
      " chNormalization)                                                \n",
      "                                                                 \n",
      " max_pooling2d_6 (MaxPoolin  (None, 4, 4, 128)         0         \n",
      " g2D)                                                            \n",
      "                                                                 \n",
      " conv2d_7 (Conv2D)           (None, 2, 2, 256)         295168    \n",
      "                                                                 \n",
      " batch_normalization_7 (Bat  (None, 2, 2, 256)         1024      \n",
      " chNormalization)                                                \n",
      "                                                                 \n",
      " max_pooling2d_7 (MaxPoolin  (None, 1, 1, 256)         0         \n",
      " g2D)                                                            \n",
      "                                                                 \n",
      " flatten_1 (Flatten)         (None, 256)               0         \n",
      "                                                                 \n",
      " dense_2 (Dense)             (None, 1024)              263168    \n",
      "                                                                 \n",
      " dense_3 (Dense)             (None, 6)                 6150      \n",
      "                                                                 \n",
      "=================================================================\n",
      "Total params: 659078 (2.51 MB)\n",
      "Trainable params: 658118 (2.51 MB)\n",
      "Non-trainable params: 960 (3.75 KB)\n",
      "_________________________________________________________________\n"
     ]
    }
   ],
   "source": [
    "#model 2- train for men only - this model will have the same struc. as the one above, the only difference is that \n",
    "# I am training this on men images only \n",
    "\n",
    "model2_cnn=Sequential()\n",
    "model2_cnn.add(Conv2D(filters = 32, kernel_size = 3, activation = 'relu',input_shape = [48,48,1]))\n",
    "model2_cnn.add(BatchNormalization())\n",
    "model2_cnn.add(MaxPooling2D(pool_size = 2, strides = 2))\n",
    "\n",
    "model2_cnn.add(Conv2D(filters = 64, kernel_size = 3, activation = 'relu',input_shape = [48,48,1]))\n",
    "model2_cnn.add(BatchNormalization())\n",
    "model2_cnn.add(MaxPooling2D(pool_size = 2, strides = 2))\n",
    "\n",
    "model2_cnn.add(Conv2D(filters = 128, kernel_size = 3, activation = 'relu',input_shape = [48,48,1]))\n",
    "model2_cnn.add(BatchNormalization())\n",
    "model2_cnn.add(MaxPooling2D(pool_size = 2, strides = 2))\n",
    "\n",
    "model2_cnn.add(Conv2D(filters = 256, kernel_size = 3, activation = 'relu',input_shape = [48,48,1]))\n",
    "model2_cnn.add(BatchNormalization())\n",
    "model2_cnn.add(MaxPooling2D(pool_size = 2, strides = 2))\n",
    "\n",
    "model2_cnn.add(Flatten())\n",
    "\n",
    "model2_cnn.add(Dense(1024,activation='relu'))\n",
    "model2_cnn.add(Dense(6,activation='softmax'))\n",
    "\n",
    "model2_cnn.summary()\n"
   ]
  },
  {
   "cell_type": "code",
   "execution_count": 20,
   "metadata": {},
   "outputs": [
    {
     "name": "stdout",
     "output_type": "stream",
     "text": [
      "Epoch 1/20\n",
      "189/189 [==============================] - 145s 747ms/step - loss: 1.7829 - accuracy: 0.3018 - val_loss: 2.5897 - val_accuracy: 0.1429\n",
      "Epoch 2/20\n",
      "189/189 [==============================] - 33s 177ms/step - loss: 1.4795 - accuracy: 0.4134 - val_loss: 1.9155 - val_accuracy: 0.2633\n",
      "Epoch 3/20\n",
      "189/189 [==============================] - 34s 177ms/step - loss: 1.3175 - accuracy: 0.4823 - val_loss: 1.5583 - val_accuracy: 0.4264\n",
      "Epoch 4/20\n",
      "189/189 [==============================] - 36s 188ms/step - loss: 1.1785 - accuracy: 0.5463 - val_loss: 1.2934 - val_accuracy: 0.5325\n",
      "Epoch 5/20\n",
      "189/189 [==============================] - 34s 179ms/step - loss: 1.0402 - accuracy: 0.6138 - val_loss: 1.7601 - val_accuracy: 0.3882\n",
      "Epoch 6/20\n",
      "189/189 [==============================] - 40s 209ms/step - loss: 0.8789 - accuracy: 0.6691 - val_loss: 2.0558 - val_accuracy: 0.3838\n",
      "Epoch 7/20\n",
      "189/189 [==============================] - 31s 163ms/step - loss: 0.7431 - accuracy: 0.7313 - val_loss: 1.8206 - val_accuracy: 0.4481\n",
      "Epoch 8/20\n",
      "189/189 [==============================] - 31s 161ms/step - loss: 0.6141 - accuracy: 0.7865 - val_loss: 1.8374 - val_accuracy: 0.4517\n",
      "Epoch 9/20\n",
      "189/189 [==============================] - 31s 163ms/step - loss: 0.4543 - accuracy: 0.8482 - val_loss: 1.8075 - val_accuracy: 0.4978\n",
      "Epoch 10/20\n",
      "189/189 [==============================] - 30s 159ms/step - loss: 0.3494 - accuracy: 0.8877 - val_loss: 1.9555 - val_accuracy: 0.5238\n",
      "Epoch 11/20\n",
      "189/189 [==============================] - 32s 167ms/step - loss: 0.3011 - accuracy: 0.9084 - val_loss: 2.3389 - val_accuracy: 0.4495\n",
      "Epoch 12/20\n",
      "189/189 [==============================] - 32s 171ms/step - loss: 0.2288 - accuracy: 0.9307 - val_loss: 2.1141 - val_accuracy: 0.5051\n",
      "Epoch 13/20\n",
      "189/189 [==============================] - 33s 173ms/step - loss: 0.2168 - accuracy: 0.9272 - val_loss: 2.0250 - val_accuracy: 0.4957\n",
      "Epoch 14/20\n",
      "189/189 [==============================] - 34s 179ms/step - loss: 0.1758 - accuracy: 0.9387 - val_loss: 2.0764 - val_accuracy: 0.5224\n",
      "Epoch 15/20\n",
      "189/189 [==============================] - 34s 177ms/step - loss: 0.1413 - accuracy: 0.9448 - val_loss: 2.2323 - val_accuracy: 0.5152\n",
      "Epoch 16/20\n",
      "189/189 [==============================] - 32s 169ms/step - loss: 0.1320 - accuracy: 0.9441 - val_loss: 2.4215 - val_accuracy: 0.5209\n",
      "Epoch 17/20\n",
      "189/189 [==============================] - 31s 162ms/step - loss: 0.1374 - accuracy: 0.9400 - val_loss: 2.4318 - val_accuracy: 0.4805\n",
      "Epoch 18/20\n",
      "189/189 [==============================] - 29s 154ms/step - loss: 0.2137 - accuracy: 0.9148 - val_loss: 2.4557 - val_accuracy: 0.5195\n",
      "Epoch 19/20\n",
      "189/189 [==============================] - 29s 153ms/step - loss: 0.2938 - accuracy: 0.8853 - val_loss: 2.8063 - val_accuracy: 0.4762\n",
      "Epoch 20/20\n",
      "189/189 [==============================] - 30s 156ms/step - loss: 0.2599 - accuracy: 0.8958 - val_loss: 2.7463 - val_accuracy: 0.4610\n"
     ]
    },
    {
     "data": {
      "text/plain": [
       "<keras.src.callbacks.History at 0x201847b0790>"
      ]
     },
     "execution_count": 20,
     "metadata": {},
     "output_type": "execute_result"
    }
   ],
   "source": [
    "#model2 compilation \n",
    "model2_cnn.compile(optimizer='adam',loss='categorical_crossentropy',metrics=['accuracy'])\n",
    "model2_cnn.fit(x=training_set_model2,validation_data=val_model2, epochs=20)"
   ]
  },
  {
   "cell_type": "code",
   "execution_count": 21,
   "metadata": {},
   "outputs": [
    {
     "name": "stderr",
     "output_type": "stream",
     "text": [
      "c:\\Users\\Zahra\\AppData\\Local\\Programs\\Python\\Python311\\Lib\\site-packages\\keras\\src\\engine\\training.py:3079: UserWarning: You are saving your model as an HDF5 file via `model.save()`. This file format is considered legacy. We recommend using instead the native Keras format, e.g. `model.save('my_model.keras')`.\n",
      "  saving_api.save_model(\n"
     ]
    }
   ],
   "source": [
    "#save the models \n",
    "model1_cnn.save(\"my_model1.h5\", include_optimizer=True)\n",
    "model2_cnn.save(\"my_model2.h5\", include_optimizer=True)"
   ]
  },
  {
   "cell_type": "code",
   "execution_count": 3,
   "metadata": {},
   "outputs": [
    {
     "name": "stdout",
     "output_type": "stream",
     "text": [
      "Found 588 images belonging to 6 classes.\n",
      "19/19 [==============================] - 20s 1s/step - loss: 2.4777 - accuracy: 0.4558\n"
     ]
    }
   ],
   "source": [
    "#test model 1- test on women images only \n",
    "model_Test=keras.models.load_model(\"my_model1.h5\")\n",
    "model1_testing = testing_data_gen.flow_from_directory('datasetforproject/testing_dataset/women_model',\n",
    "                                                 target_size = (48,48), \n",
    "                                                 color_mode = 'grayscale' , \n",
    "                                                 class_mode = 'categorical')\n",
    "\n",
    "\n",
    "result_1=model_Test.evaluate(model1_testing)"
   ]
  },
  {
   "cell_type": "code",
   "execution_count": 4,
   "metadata": {},
   "outputs": [
    {
     "name": "stdout",
     "output_type": "stream",
     "text": [
      "Found 820 images belonging to 6 classes.\n",
      "26/26 [==============================] - 17s 658ms/step - loss: 3.2417 - accuracy: 0.3854\n"
     ]
    }
   ],
   "source": [
    "#test model 2- test on men images only \n",
    "model_Test2=keras.models.load_model(\"my_model2.h5\")\n",
    "model2_testing = testing_data_gen.flow_from_directory('datasetforproject/testing_dataset/men_model',\n",
    "                                                 target_size = (48,48), \n",
    "                                                 color_mode = 'grayscale' , \n",
    "                                                 class_mode = 'categorical')\n",
    "\n",
    "\n",
    "result_2=model_Test2.evaluate(model2_testing)"
   ]
  },
  {
   "cell_type": "code",
   "execution_count": null,
   "metadata": {},
   "outputs": [],
   "source": [
    "# I will try to improve the testing accuracy. \n",
    "# I am going to try different things.\n",
    "# 1- Data augmentation 2- dropout layers 3- A mix of the two \n",
    "# I will pick the models with the best testing accuracy and do the cross testing\n",
    "# I also think it will be a good idea to look at the model in terms of other metrics.\n",
    "\n"
   ]
  },
  {
   "cell_type": "code",
   "execution_count": 8,
   "metadata": {},
   "outputs": [
    {
     "name": "stdout",
     "output_type": "stream",
     "text": [
      "Found 6323 images belonging to 6 classes.\n",
      "Found 6048 images belonging to 6 classes.\n"
     ]
    }
   ],
   "source": [
    "# Method ONE: Data augmentation. Since the data set is not that big, adding more augmented images from the \n",
    "# original dataset migh help improve the \n",
    "\n",
    "train_data_gen_aug= ImageDataGenerator(  rescale=1./255,\n",
    "    rotation_range=20,\n",
    "    width_shift_range=0.2,\n",
    "    height_shift_range=0.2,\n",
    "    shear_range=0.2,\n",
    "    zoom_range=0.2,\n",
    "    horizontal_flip=True,\n",
    "    vertical_flip= True,\n",
    "    brightness_range=[0.2,1.2],\n",
    "    fill_mode='nearest'\n",
    "                                   )\n",
    "\n",
    "   \n",
    "training_set_model1_aug = train_data_gen_aug.flow_from_directory('datasetforproject/training_datasets/model_women',\n",
    "                                                 target_size = (48,48), \n",
    "                                                 shuffle=True,\n",
    "                                                 color_mode = 'grayscale' , \n",
    "                                                 class_mode = 'categorical')\n",
    "\n",
    "training_set_model2_aug = train_data_gen_aug.flow_from_directory('datasetforproject/training_datasets/model_men',\n",
    "                                                 target_size = (48,48), \n",
    "                                                 shuffle=True,\n",
    "                                                 color_mode = 'grayscale' , \n",
    "                                                 class_mode = 'categorical')\n",
    "\n",
    "\n"
   ]
  },
  {
   "cell_type": "code",
   "execution_count": 7,
   "metadata": {},
   "outputs": [
    {
     "name": "stdout",
     "output_type": "stream",
     "text": [
      "Epoch 1/20\n",
      "198/198 [==============================] - 93s 453ms/step - loss: 1.7641 - accuracy: 0.3116 - val_loss: 3.2391 - val_accuracy: 0.1846\n",
      "Epoch 2/20\n",
      "198/198 [==============================] - 27s 135ms/step - loss: 1.4498 - accuracy: 0.4306 - val_loss: 2.1232 - val_accuracy: 0.2315\n",
      "Epoch 3/20\n",
      "198/198 [==============================] - 28s 140ms/step - loss: 1.2761 - accuracy: 0.5116 - val_loss: 1.4202 - val_accuracy: 0.4601\n",
      "Epoch 4/20\n",
      "198/198 [==============================] - 34s 170ms/step - loss: 1.1359 - accuracy: 0.5703 - val_loss: 1.4798 - val_accuracy: 0.4350\n",
      "Epoch 5/20\n",
      "198/198 [==============================] - 44s 221ms/step - loss: 0.9950 - accuracy: 0.6280 - val_loss: 1.7187 - val_accuracy: 0.4399\n",
      "Epoch 6/20\n",
      "198/198 [==============================] - 42s 214ms/step - loss: 0.8314 - accuracy: 0.6992 - val_loss: 1.5903 - val_accuracy: 0.4413\n",
      "Epoch 7/20\n",
      "198/198 [==============================] - 38s 193ms/step - loss: 0.6743 - accuracy: 0.7541 - val_loss: 1.7707 - val_accuracy: 0.4357\n",
      "Epoch 8/20\n",
      "198/198 [==============================] - 31s 157ms/step - loss: 0.5455 - accuracy: 0.8108 - val_loss: 1.8295 - val_accuracy: 0.4545\n",
      "Epoch 9/20\n",
      "198/198 [==============================] - 29s 148ms/step - loss: 0.4432 - accuracy: 0.8580 - val_loss: 2.0384 - val_accuracy: 0.4755\n",
      "Epoch 10/20\n",
      "198/198 [==============================] - 29s 147ms/step - loss: 0.3530 - accuracy: 0.8866 - val_loss: 2.0969 - val_accuracy: 0.4979\n",
      "Epoch 11/20\n",
      "198/198 [==============================] - 29s 148ms/step - loss: 0.3140 - accuracy: 0.8953 - val_loss: 1.9650 - val_accuracy: 0.4483\n",
      "Epoch 12/20\n",
      "198/198 [==============================] - 31s 159ms/step - loss: 0.2311 - accuracy: 0.9280 - val_loss: 2.0730 - val_accuracy: 0.4909\n",
      "Epoch 13/20\n",
      "198/198 [==============================] - 36s 182ms/step - loss: 0.2003 - accuracy: 0.9320 - val_loss: 2.0717 - val_accuracy: 0.5140\n",
      "Epoch 14/20\n",
      "198/198 [==============================] - 44s 224ms/step - loss: 0.1921 - accuracy: 0.9299 - val_loss: 2.3932 - val_accuracy: 0.4727\n",
      "Epoch 15/20\n",
      "198/198 [==============================] - 40s 200ms/step - loss: 0.1886 - accuracy: 0.9290 - val_loss: 2.2480 - val_accuracy: 0.4720\n",
      "Epoch 16/20\n",
      "198/198 [==============================] - 39s 196ms/step - loss: 0.1764 - accuracy: 0.9328 - val_loss: 2.0951 - val_accuracy: 0.5021\n",
      "Epoch 17/20\n",
      "198/198 [==============================] - 39s 197ms/step - loss: 0.1505 - accuracy: 0.9372 - val_loss: 2.4787 - val_accuracy: 0.4706\n",
      "Epoch 18/20\n",
      "198/198 [==============================] - 39s 198ms/step - loss: 0.1905 - accuracy: 0.9203 - val_loss: 2.3715 - val_accuracy: 0.4937\n",
      "Epoch 19/20\n",
      "198/198 [==============================] - 34s 173ms/step - loss: 0.2405 - accuracy: 0.9070 - val_loss: 2.2804 - val_accuracy: 0.4678\n",
      "Epoch 20/20\n",
      "198/198 [==============================] - 32s 162ms/step - loss: 0.2097 - accuracy: 0.9135 - val_loss: 2.3511 - val_accuracy: 0.4385\n"
     ]
    },
    {
     "data": {
      "text/plain": [
       "<keras.src.callbacks.History at 0x226a9497650>"
      ]
     },
     "execution_count": 7,
     "metadata": {},
     "output_type": "execute_result"
    }
   ],
   "source": [
    "# we will use the same structure for the above model, we will train them using the augmented data\n",
    "model_1_cnn_aug=model1_cnn\n",
    "model_1_cnn_aug.compile(optimizer='adam',loss='categorical_crossentropy',metrics=['accuracy'])\n",
    "model_1_cnn_aug.fit(x=training_set_model1_aug,validation_data=val_model1, epochs=20)"
   ]
  },
  {
   "cell_type": "code",
   "execution_count": 8,
   "metadata": {},
   "outputs": [
    {
     "name": "stdout",
     "output_type": "stream",
     "text": [
      "Epoch 1/20\n",
      "189/189 [==============================] - 116s 600ms/step - loss: 1.7355 - accuracy: 0.3183 - val_loss: 2.3409 - val_accuracy: 0.2561\n",
      "Epoch 2/20\n",
      "189/189 [==============================] - 30s 157ms/step - loss: 1.4565 - accuracy: 0.4167 - val_loss: 1.6827 - val_accuracy: 0.3521\n",
      "Epoch 3/20\n",
      "189/189 [==============================] - 32s 169ms/step - loss: 1.2977 - accuracy: 0.4983 - val_loss: 1.4529 - val_accuracy: 0.4466\n",
      "Epoch 4/20\n",
      "189/189 [==============================] - 36s 192ms/step - loss: 1.1610 - accuracy: 0.5542 - val_loss: 1.3279 - val_accuracy: 0.4870\n",
      "Epoch 5/20\n",
      "189/189 [==============================] - 43s 230ms/step - loss: 1.0168 - accuracy: 0.6052 - val_loss: 1.5122 - val_accuracy: 0.4300\n",
      "Epoch 6/20\n",
      "189/189 [==============================] - 45s 236ms/step - loss: 0.8781 - accuracy: 0.6772 - val_loss: 1.8445 - val_accuracy: 0.4199\n",
      "Epoch 7/20\n",
      "189/189 [==============================] - 44s 231ms/step - loss: 0.7264 - accuracy: 0.7336 - val_loss: 2.2021 - val_accuracy: 0.4401\n",
      "Epoch 8/20\n",
      "189/189 [==============================] - 38s 200ms/step - loss: 0.6032 - accuracy: 0.7854 - val_loss: 1.5471 - val_accuracy: 0.5281\n",
      "Epoch 9/20\n",
      "189/189 [==============================] - 31s 165ms/step - loss: 0.4736 - accuracy: 0.8419 - val_loss: 1.6102 - val_accuracy: 0.4784\n",
      "Epoch 10/20\n",
      "189/189 [==============================] - 31s 164ms/step - loss: 0.4002 - accuracy: 0.8639 - val_loss: 2.2152 - val_accuracy: 0.4307\n",
      "Epoch 11/20\n",
      "189/189 [==============================] - 32s 169ms/step - loss: 0.3283 - accuracy: 0.8986 - val_loss: 2.1020 - val_accuracy: 0.4798\n",
      "Epoch 12/20\n",
      "189/189 [==============================] - 31s 166ms/step - loss: 0.2435 - accuracy: 0.9268 - val_loss: 2.0951 - val_accuracy: 0.4834\n",
      "Epoch 13/20\n",
      "189/189 [==============================] - 32s 167ms/step - loss: 0.2096 - accuracy: 0.9311 - val_loss: 2.0184 - val_accuracy: 0.5130\n",
      "Epoch 14/20\n",
      "189/189 [==============================] - 32s 168ms/step - loss: 0.1793 - accuracy: 0.9368 - val_loss: 2.0220 - val_accuracy: 0.5281\n",
      "Epoch 15/20\n",
      "189/189 [==============================] - 35s 185ms/step - loss: 0.1621 - accuracy: 0.9395 - val_loss: 2.1369 - val_accuracy: 0.5144\n",
      "Epoch 16/20\n",
      "189/189 [==============================] - 37s 197ms/step - loss: 0.1555 - accuracy: 0.9405 - val_loss: 2.3001 - val_accuracy: 0.4986\n",
      "Epoch 17/20\n",
      "189/189 [==============================] - 38s 198ms/step - loss: 0.1423 - accuracy: 0.9405 - val_loss: 2.3991 - val_accuracy: 0.4870\n",
      "Epoch 18/20\n",
      "189/189 [==============================] - 37s 193ms/step - loss: 0.1748 - accuracy: 0.9271 - val_loss: 2.6333 - val_accuracy: 0.4538\n",
      "Epoch 19/20\n",
      "189/189 [==============================] - 34s 181ms/step - loss: 0.2174 - accuracy: 0.9170 - val_loss: 2.0920 - val_accuracy: 0.5014\n",
      "Epoch 20/20\n",
      "189/189 [==============================] - 29s 155ms/step - loss: 0.2298 - accuracy: 0.9020 - val_loss: 2.4965 - val_accuracy: 0.5274\n"
     ]
    },
    {
     "data": {
      "text/plain": [
       "<keras.src.callbacks.History at 0x226ab376c50>"
      ]
     },
     "execution_count": 8,
     "metadata": {},
     "output_type": "execute_result"
    }
   ],
   "source": [
    "model_2_cnn_aug=model2_cnn\n",
    "model_2_cnn_aug.compile(optimizer='adam',loss='categorical_crossentropy',metrics=['accuracy'])\n",
    "model_2_cnn_aug.fit(x=training_set_model2_aug,validation_data=val_model2, epochs=20)"
   ]
  },
  {
   "cell_type": "code",
   "execution_count": 9,
   "metadata": {},
   "outputs": [
    {
     "name": "stderr",
     "output_type": "stream",
     "text": [
      "c:\\Users\\Zahra\\AppData\\Local\\Programs\\Python\\Python311\\Lib\\site-packages\\keras\\src\\engine\\training.py:3079: UserWarning: You are saving your model as an HDF5 file via `model.save()`. This file format is considered legacy. We recommend using instead the native Keras format, e.g. `model.save('my_model.keras')`.\n",
      "  saving_api.save_model(\n"
     ]
    }
   ],
   "source": [
    "model_1_cnn_aug.save(\"my_model1_aug.h5\", include_optimizer=True)\n",
    "model_2_cnn_aug.save(\"my_model2_aug.h5\", include_optimizer=True)"
   ]
  },
  {
   "cell_type": "code",
   "execution_count": 13,
   "metadata": {},
   "outputs": [
    {
     "name": "stdout",
     "output_type": "stream",
     "text": [
      "19/19 [==============================] - 8s 442ms/step - loss: 2.7430 - accuracy: 0.3656\n"
     ]
    },
    {
     "data": {
      "text/plain": [
       "[2.7429816722869873, 0.36564627289772034]"
      ]
     },
     "execution_count": 13,
     "metadata": {},
     "output_type": "execute_result"
    }
   ],
   "source": [
    "model_1_cnn_aug.evaluate(model1_testing)"
   ]
  },
  {
   "cell_type": "code",
   "execution_count": 14,
   "metadata": {},
   "outputs": [
    {
     "name": "stdout",
     "output_type": "stream",
     "text": [
      "26/26 [==============================] - 3s 121ms/step - loss: 2.8072 - accuracy: 0.5024\n"
     ]
    },
    {
     "data": {
      "text/plain": [
       "[2.80724835395813, 0.502439022064209]"
      ]
     },
     "execution_count": 14,
     "metadata": {},
     "output_type": "execute_result"
    }
   ],
   "source": [
    "model_2_cnn_aug.evaluate(model2_testing)"
   ]
  },
  {
   "cell_type": "markdown",
   "metadata": {},
   "source": [
    "there is some progress with model2, but a little decline in model1 \n",
    "Now, we will try using dropout\n"
   ]
  },
  {
   "cell_type": "code",
   "execution_count": 7,
   "metadata": {},
   "outputs": [
    {
     "name": "stdout",
     "output_type": "stream",
     "text": [
      "Model: \"sequential\"\n",
      "_________________________________________________________________\n",
      " Layer (type)                Output Shape              Param #   \n",
      "=================================================================\n",
      " conv2d (Conv2D)             (None, 46, 46, 32)        320       \n",
      "                                                                 \n",
      " batch_normalization (Batch  (None, 46, 46, 32)        128       \n",
      " Normalization)                                                  \n",
      "                                                                 \n",
      " max_pooling2d (MaxPooling2  (None, 23, 23, 32)        0         \n",
      " D)                                                              \n",
      "                                                                 \n",
      " dropout (Dropout)           (None, 23, 23, 32)        0         \n",
      "                                                                 \n",
      " conv2d_1 (Conv2D)           (None, 21, 21, 64)        18496     \n",
      "                                                                 \n",
      " batch_normalization_1 (Bat  (None, 21, 21, 64)        256       \n",
      " chNormalization)                                                \n",
      "                                                                 \n",
      " max_pooling2d_1 (MaxPoolin  (None, 10, 10, 64)        0         \n",
      " g2D)                                                            \n",
      "                                                                 \n",
      " dropout_1 (Dropout)         (None, 10, 10, 64)        0         \n",
      "                                                                 \n",
      " conv2d_2 (Conv2D)           (None, 8, 8, 128)         73856     \n",
      "                                                                 \n",
      " batch_normalization_2 (Bat  (None, 8, 8, 128)         512       \n",
      " chNormalization)                                                \n",
      "                                                                 \n",
      " max_pooling2d_2 (MaxPoolin  (None, 4, 4, 128)         0         \n",
      " g2D)                                                            \n",
      "                                                                 \n",
      " dropout_2 (Dropout)         (None, 4, 4, 128)         0         \n",
      "                                                                 \n",
      " conv2d_3 (Conv2D)           (None, 2, 2, 256)         295168    \n",
      "                                                                 \n",
      " batch_normalization_3 (Bat  (None, 2, 2, 256)         1024      \n",
      " chNormalization)                                                \n",
      "                                                                 \n",
      " max_pooling2d_3 (MaxPoolin  (None, 1, 1, 256)         0         \n",
      " g2D)                                                            \n",
      "                                                                 \n",
      " dropout_3 (Dropout)         (None, 1, 1, 256)         0         \n",
      "                                                                 \n",
      " flatten (Flatten)           (None, 256)               0         \n",
      "                                                                 \n",
      " dense (Dense)               (None, 1024)              263168    \n",
      "                                                                 \n",
      " dropout_4 (Dropout)         (None, 1024)              0         \n",
      "                                                                 \n",
      " dense_1 (Dense)             (None, 6)                 6150      \n",
      "                                                                 \n",
      "=================================================================\n",
      "Total params: 659078 (2.51 MB)\n",
      "Trainable params: 658118 (2.51 MB)\n",
      "Non-trainable params: 960 (3.75 KB)\n",
      "_________________________________________________________________\n"
     ]
    }
   ],
   "source": [
    "#model1 with dropout layers \n",
    "model1_cnn_dropout=Sequential()\n",
    "\n",
    "model1_cnn_dropout.add(Conv2D(filters = 32, kernel_size = 3, activation = 'relu',input_shape = [48,48,1]))\n",
    "model1_cnn_dropout.add(BatchNormalization())\n",
    "model1_cnn_dropout.add(MaxPooling2D(pool_size = 2, strides = 2))\n",
    "model1_cnn_dropout.add(Dropout(0.1))  # Add a Dropout layer\n",
    "\n",
    "model1_cnn_dropout.add(Conv2D(filters = 64, kernel_size = 3, activation = 'relu',input_shape = [48,48,1]))\n",
    "model1_cnn_dropout.add(BatchNormalization())\n",
    "model1_cnn_dropout.add(MaxPooling2D(pool_size = 2, strides = 2))\n",
    "model1_cnn_dropout.add(Dropout(0.15))  # Add a Dropout layer\n",
    "\n",
    "model1_cnn_dropout.add(Conv2D(filters = 128, kernel_size = 3, activation = 'relu',input_shape = [48,48,1]))\n",
    "model1_cnn_dropout.add(BatchNormalization())\n",
    "model1_cnn_dropout.add(MaxPooling2D(pool_size = 2, strides = 2))\n",
    "model1_cnn_dropout.add(Dropout(0.20))  # Add a Dropout layer\n",
    "\n",
    "model1_cnn_dropout.add(Conv2D(filters = 256, kernel_size = 3, activation = 'relu',input_shape = [48,48,1]))\n",
    "model1_cnn_dropout.add(BatchNormalization())\n",
    "model1_cnn_dropout.add(MaxPooling2D(pool_size = 2, strides = 2))\n",
    "model1_cnn_dropout.add(Dropout(0.25))  # Add a Dropout layer\n",
    "\n",
    "\n",
    "model1_cnn_dropout.add(Flatten())\n",
    "\n",
    "model1_cnn_dropout.add(Dense(1024,activation='relu'))\n",
    "model1_cnn_dropout.add(Dropout(0.50))  # Add a Dropout layer\n",
    "model1_cnn_dropout.add(Dense(6,activation='softmax'))\n",
    "\n",
    "model1_cnn_dropout.summary()\n",
    "\n"
   ]
  },
  {
   "cell_type": "code",
   "execution_count": 11,
   "metadata": {},
   "outputs": [
    {
     "name": "stdout",
     "output_type": "stream",
     "text": [
      "Epoch 1/20\n",
      "198/198 [==============================] - 57s 277ms/step - loss: 2.0206 - accuracy: 0.2358 - val_loss: 2.1640 - val_accuracy: 0.1790\n",
      "Epoch 2/20\n",
      "198/198 [==============================] - 30s 152ms/step - loss: 1.6752 - accuracy: 0.3199 - val_loss: 1.8591 - val_accuracy: 0.2517\n",
      "Epoch 3/20\n",
      "198/198 [==============================] - 31s 158ms/step - loss: 1.5627 - accuracy: 0.3717 - val_loss: 1.5439 - val_accuracy: 0.3888\n",
      "Epoch 4/20\n",
      "198/198 [==============================] - 32s 160ms/step - loss: 1.4892 - accuracy: 0.4099 - val_loss: 1.4913 - val_accuracy: 0.4091\n",
      "Epoch 5/20\n",
      "198/198 [==============================] - 32s 163ms/step - loss: 1.4398 - accuracy: 0.4264 - val_loss: 1.4181 - val_accuracy: 0.4531\n",
      "Epoch 6/20\n",
      "198/198 [==============================] - 31s 159ms/step - loss: 1.3871 - accuracy: 0.4529 - val_loss: 1.4223 - val_accuracy: 0.4483\n",
      "Epoch 7/20\n",
      "198/198 [==============================] - 31s 159ms/step - loss: 1.3285 - accuracy: 0.4871 - val_loss: 1.6642 - val_accuracy: 0.4021\n",
      "Epoch 8/20\n",
      "198/198 [==============================] - 32s 163ms/step - loss: 1.2685 - accuracy: 0.5028 - val_loss: 1.3408 - val_accuracy: 0.5035\n",
      "Epoch 9/20\n",
      "198/198 [==============================] - 33s 165ms/step - loss: 1.2313 - accuracy: 0.5281 - val_loss: 1.3374 - val_accuracy: 0.4993\n",
      "Epoch 10/20\n",
      "198/198 [==============================] - 33s 166ms/step - loss: 1.2034 - accuracy: 0.5390 - val_loss: 1.3710 - val_accuracy: 0.4692\n",
      "Epoch 11/20\n",
      "198/198 [==============================] - 33s 166ms/step - loss: 1.1626 - accuracy: 0.5554 - val_loss: 1.3488 - val_accuracy: 0.4776\n",
      "Epoch 12/20\n",
      "198/198 [==============================] - 33s 166ms/step - loss: 1.1091 - accuracy: 0.5730 - val_loss: 1.8231 - val_accuracy: 0.4266\n",
      "Epoch 13/20\n",
      "198/198 [==============================] - 33s 166ms/step - loss: 1.0902 - accuracy: 0.5799 - val_loss: 1.3775 - val_accuracy: 0.5119\n",
      "Epoch 14/20\n",
      "198/198 [==============================] - 33s 168ms/step - loss: 1.0278 - accuracy: 0.6109 - val_loss: 1.5087 - val_accuracy: 0.4664\n",
      "Epoch 15/20\n",
      "198/198 [==============================] - 32s 164ms/step - loss: 1.0056 - accuracy: 0.6176 - val_loss: 1.5256 - val_accuracy: 0.4587\n",
      "Epoch 16/20\n",
      "198/198 [==============================] - 32s 162ms/step - loss: 0.9705 - accuracy: 0.6386 - val_loss: 1.3412 - val_accuracy: 0.5196\n",
      "Epoch 17/20\n",
      "198/198 [==============================] - 32s 163ms/step - loss: 0.8933 - accuracy: 0.6695 - val_loss: 1.5074 - val_accuracy: 0.4909\n",
      "Epoch 18/20\n",
      "198/198 [==============================] - 33s 165ms/step - loss: 0.8768 - accuracy: 0.6763 - val_loss: 1.6478 - val_accuracy: 0.4336\n",
      "Epoch 19/20\n",
      "198/198 [==============================] - 32s 164ms/step - loss: 0.8245 - accuracy: 0.6907 - val_loss: 1.4349 - val_accuracy: 0.5133\n",
      "Epoch 20/20\n",
      "198/198 [==============================] - 33s 168ms/step - loss: 0.8094 - accuracy: 0.7011 - val_loss: 1.6204 - val_accuracy: 0.4713\n"
     ]
    },
    {
     "data": {
      "text/plain": [
       "<keras.src.callbacks.History at 0x26789baead0>"
      ]
     },
     "execution_count": 11,
     "metadata": {},
     "output_type": "execute_result"
    }
   ],
   "source": [
    "#train again with normal dataset\n",
    "\n",
    "model1_cnn_dropout.compile(optimizer='adam',loss='categorical_crossentropy',metrics=['accuracy'])\n",
    "model1_cnn_dropout.fit(x=training_set_model1,validation_data=val_model1, epochs=20)"
   ]
  },
  {
   "cell_type": "code",
   "execution_count": 8,
   "metadata": {},
   "outputs": [
    {
     "name": "stdout",
     "output_type": "stream",
     "text": [
      "Model: \"sequential_1\"\n",
      "_________________________________________________________________\n",
      " Layer (type)                Output Shape              Param #   \n",
      "=================================================================\n",
      " conv2d_4 (Conv2D)           (None, 46, 46, 32)        320       \n",
      "                                                                 \n",
      " batch_normalization_4 (Bat  (None, 46, 46, 32)        128       \n",
      " chNormalization)                                                \n",
      "                                                                 \n",
      " max_pooling2d_4 (MaxPoolin  (None, 23, 23, 32)        0         \n",
      " g2D)                                                            \n",
      "                                                                 \n",
      " dropout_5 (Dropout)         (None, 23, 23, 32)        0         \n",
      "                                                                 \n",
      " conv2d_5 (Conv2D)           (None, 21, 21, 64)        18496     \n",
      "                                                                 \n",
      " batch_normalization_5 (Bat  (None, 21, 21, 64)        256       \n",
      " chNormalization)                                                \n",
      "                                                                 \n",
      " max_pooling2d_5 (MaxPoolin  (None, 10, 10, 64)        0         \n",
      " g2D)                                                            \n",
      "                                                                 \n",
      " dropout_6 (Dropout)         (None, 10, 10, 64)        0         \n",
      "                                                                 \n",
      " conv2d_6 (Conv2D)           (None, 8, 8, 128)         73856     \n",
      "                                                                 \n",
      " batch_normalization_6 (Bat  (None, 8, 8, 128)         512       \n",
      " chNormalization)                                                \n",
      "                                                                 \n",
      " max_pooling2d_6 (MaxPoolin  (None, 4, 4, 128)         0         \n",
      " g2D)                                                            \n",
      "                                                                 \n",
      " dropout_7 (Dropout)         (None, 4, 4, 128)         0         \n",
      "                                                                 \n",
      " conv2d_7 (Conv2D)           (None, 2, 2, 256)         295168    \n",
      "                                                                 \n",
      " batch_normalization_7 (Bat  (None, 2, 2, 256)         1024      \n",
      " chNormalization)                                                \n",
      "                                                                 \n",
      " max_pooling2d_7 (MaxPoolin  (None, 1, 1, 256)         0         \n",
      " g2D)                                                            \n",
      "                                                                 \n",
      " dropout_8 (Dropout)         (None, 1, 1, 256)         0         \n",
      "                                                                 \n",
      " flatten_1 (Flatten)         (None, 256)               0         \n",
      "                                                                 \n",
      " dense_2 (Dense)             (None, 1024)              263168    \n",
      "                                                                 \n",
      " dropout_9 (Dropout)         (None, 1024)              0         \n",
      "                                                                 \n",
      " dense_3 (Dense)             (None, 6)                 6150      \n",
      "                                                                 \n",
      "=================================================================\n",
      "Total params: 659078 (2.51 MB)\n",
      "Trainable params: 658118 (2.51 MB)\n",
      "Non-trainable params: 960 (3.75 KB)\n",
      "_________________________________________________________________\n"
     ]
    }
   ],
   "source": [
    "#model 2 \n",
    "model2_cnn_dropout=Sequential()\n",
    "\n",
    "model2_cnn_dropout.add(Conv2D(filters = 32, kernel_size = 3, activation = 'relu',input_shape = [48,48,1]))\n",
    "model2_cnn_dropout.add(BatchNormalization())\n",
    "model2_cnn_dropout.add(MaxPooling2D(pool_size = 2, strides = 2))\n",
    "model2_cnn_dropout.add(Dropout(0.1))  # Add a Dropout layer\n",
    "\n",
    "model2_cnn_dropout.add(Conv2D(filters = 64, kernel_size = 3, activation = 'relu',input_shape = [48,48,1]))\n",
    "model2_cnn_dropout.add(BatchNormalization())\n",
    "model2_cnn_dropout.add(MaxPooling2D(pool_size = 2, strides = 2))\n",
    "model2_cnn_dropout.add(Dropout(0.15))  # Add a Dropout layer\n",
    "\n",
    "model2_cnn_dropout.add(Conv2D(filters = 128, kernel_size = 3, activation = 'relu',input_shape = [48,48,1]))\n",
    "model2_cnn_dropout.add(BatchNormalization())\n",
    "model2_cnn_dropout.add(MaxPooling2D(pool_size = 2, strides = 2))\n",
    "model2_cnn_dropout.add(Dropout(0.20))  # Add a Dropout layer\n",
    "\n",
    "model2_cnn_dropout.add(Conv2D(filters = 256, kernel_size = 3, activation = 'relu',input_shape = [48,48,1]))\n",
    "model2_cnn_dropout.add(BatchNormalization())\n",
    "model2_cnn_dropout.add(MaxPooling2D(pool_size = 2, strides = 2))\n",
    "model2_cnn_dropout.add(Dropout(0.25))  # Add a Dropout layer\n",
    "\n",
    "\n",
    "model2_cnn_dropout.add(Flatten())\n",
    "\n",
    "model2_cnn_dropout.add(Dense(1024,activation='relu'))\n",
    "model2_cnn_dropout.add(Dropout(0.50))  # Add a Dropout layer\n",
    "model2_cnn_dropout.add(Dense(6,activation='softmax'))\n",
    "\n",
    "model2_cnn_dropout.summary()"
   ]
  },
  {
   "cell_type": "code",
   "execution_count": 10,
   "metadata": {},
   "outputs": [
    {
     "name": "stdout",
     "output_type": "stream",
     "text": [
      "Epoch 1/20\n",
      "189/189 [==============================] - 102s 528ms/step - loss: 2.0258 - accuracy: 0.2497 - val_loss: 2.8210 - val_accuracy: 0.2540\n",
      "Epoch 2/20\n",
      "189/189 [==============================] - 27s 144ms/step - loss: 1.6649 - accuracy: 0.3226 - val_loss: 3.2850 - val_accuracy: 0.1537\n",
      "Epoch 3/20\n",
      "189/189 [==============================] - 27s 145ms/step - loss: 1.5527 - accuracy: 0.3720 - val_loss: 1.6253 - val_accuracy: 0.3290\n",
      "Epoch 4/20\n",
      "189/189 [==============================] - 27s 140ms/step - loss: 1.4741 - accuracy: 0.4051 - val_loss: 1.8324 - val_accuracy: 0.3463\n",
      "Epoch 5/20\n",
      "189/189 [==============================] - 26s 139ms/step - loss: 1.4100 - accuracy: 0.4342 - val_loss: 1.3978 - val_accuracy: 0.4560\n",
      "Epoch 6/20\n",
      "189/189 [==============================] - 26s 138ms/step - loss: 1.3751 - accuracy: 0.4489 - val_loss: 1.3716 - val_accuracy: 0.4798\n",
      "Epoch 7/20\n",
      "189/189 [==============================] - 27s 143ms/step - loss: 1.3075 - accuracy: 0.4896 - val_loss: 1.6717 - val_accuracy: 0.4574\n",
      "Epoch 8/20\n",
      "189/189 [==============================] - 29s 151ms/step - loss: 1.2837 - accuracy: 0.4937 - val_loss: 1.2731 - val_accuracy: 0.5491\n",
      "Epoch 9/20\n",
      "189/189 [==============================] - 29s 153ms/step - loss: 1.2248 - accuracy: 0.5212 - val_loss: 1.3569 - val_accuracy: 0.4957\n",
      "Epoch 10/20\n",
      "189/189 [==============================] - 31s 166ms/step - loss: 1.1785 - accuracy: 0.5349 - val_loss: 1.4562 - val_accuracy: 0.4913\n",
      "Epoch 11/20\n",
      "189/189 [==============================] - 31s 164ms/step - loss: 1.1510 - accuracy: 0.5494 - val_loss: 1.4120 - val_accuracy: 0.4993\n",
      "Epoch 12/20\n",
      "189/189 [==============================] - 31s 164ms/step - loss: 1.1100 - accuracy: 0.5774 - val_loss: 1.3731 - val_accuracy: 0.5022\n",
      "Epoch 13/20\n",
      "189/189 [==============================] - 31s 166ms/step - loss: 1.0639 - accuracy: 0.5896 - val_loss: 1.4009 - val_accuracy: 0.4870\n",
      "Epoch 14/20\n",
      "189/189 [==============================] - 31s 163ms/step - loss: 1.0238 - accuracy: 0.6068 - val_loss: 1.6326 - val_accuracy: 0.4473\n",
      "Epoch 15/20\n",
      "189/189 [==============================] - 31s 163ms/step - loss: 1.0014 - accuracy: 0.6209 - val_loss: 1.3064 - val_accuracy: 0.5462\n",
      "Epoch 16/20\n",
      "189/189 [==============================] - 30s 160ms/step - loss: 0.9338 - accuracy: 0.6450 - val_loss: 1.3811 - val_accuracy: 0.5339\n",
      "Epoch 17/20\n",
      "189/189 [==============================] - 30s 161ms/step - loss: 0.9080 - accuracy: 0.6556 - val_loss: 1.6698 - val_accuracy: 0.4942\n",
      "Epoch 18/20\n",
      "189/189 [==============================] - 31s 163ms/step - loss: 0.8581 - accuracy: 0.6782 - val_loss: 1.4688 - val_accuracy: 0.5058\n",
      "Epoch 19/20\n",
      "189/189 [==============================] - 31s 163ms/step - loss: 0.8282 - accuracy: 0.6842 - val_loss: 1.4135 - val_accuracy: 0.5556\n",
      "Epoch 20/20\n",
      "189/189 [==============================] - 31s 162ms/step - loss: 0.7861 - accuracy: 0.6991 - val_loss: 1.6026 - val_accuracy: 0.5310\n"
     ]
    },
    {
     "data": {
      "text/plain": [
       "<keras.src.callbacks.History at 0x267895a7c10>"
      ]
     },
     "execution_count": 10,
     "metadata": {},
     "output_type": "execute_result"
    }
   ],
   "source": [
    "model2_cnn_dropout.compile(optimizer='adam',loss='categorical_crossentropy',metrics=['accuracy'])\n",
    "model2_cnn_dropout.fit(x=training_set_model2,validation_data=val_model2, epochs=20)"
   ]
  },
  {
   "cell_type": "code",
   "execution_count": 12,
   "metadata": {},
   "outputs": [],
   "source": [
    "model1_cnn_dropout.save(\"my_model1_dropout.h5\", include_optimizer=True)\n",
    "model2_cnn_dropout.save(\"my_model2_dropout.h5\", include_optimizer=True)"
   ]
  },
  {
   "cell_type": "code",
   "execution_count": 13,
   "metadata": {},
   "outputs": [
    {
     "name": "stdout",
     "output_type": "stream",
     "text": [
      "19/19 [==============================] - 8s 402ms/step - loss: 1.9188 - accuracy: 0.4150\n"
     ]
    },
    {
     "data": {
      "text/plain": [
       "[1.9187999963760376, 0.41496598720550537]"
      ]
     },
     "execution_count": 13,
     "metadata": {},
     "output_type": "execute_result"
    }
   ],
   "source": [
    "model1_cnn_dropout.evaluate(model1_testing)"
   ]
  },
  {
   "cell_type": "code",
   "execution_count": 14,
   "metadata": {},
   "outputs": [
    {
     "name": "stdout",
     "output_type": "stream",
     "text": [
      "26/26 [==============================] - 3s 113ms/step - loss: 1.7455 - accuracy: 0.4976\n"
     ]
    },
    {
     "data": {
      "text/plain": [
       "[1.745477318763733, 0.497560977935791]"
      ]
     },
     "execution_count": 14,
     "metadata": {},
     "output_type": "execute_result"
    }
   ],
   "source": [
    "model2_cnn_dropout.evaluate(model2_testing)"
   ]
  },
  {
   "cell_type": "markdown",
   "metadata": {},
   "source": [
    "Model1 seems to be improveing a little compare to what the last model resulted, and its the highest so far\n",
    "model2, on the other hand, seems to have a lower accuracy, but not the lowest. \n",
    "Next We are going to try to do the mix of augmented data with dropput layers\n",
    "\n"
   ]
  },
  {
   "cell_type": "code",
   "execution_count": 18,
   "metadata": {},
   "outputs": [
    {
     "name": "stdout",
     "output_type": "stream",
     "text": [
      "Model: \"sequential_3\"\n",
      "_________________________________________________________________\n",
      " Layer (type)                Output Shape              Param #   \n",
      "=================================================================\n",
      " conv2d_12 (Conv2D)          (None, 46, 46, 32)        320       \n",
      "                                                                 \n",
      " batch_normalization_12 (Ba  (None, 46, 46, 32)        128       \n",
      " tchNormalization)                                               \n",
      "                                                                 \n",
      " max_pooling2d_12 (MaxPooli  (None, 23, 23, 32)        0         \n",
      " ng2D)                                                           \n",
      "                                                                 \n",
      " dropout_15 (Dropout)        (None, 23, 23, 32)        0         \n",
      "                                                                 \n",
      " conv2d_13 (Conv2D)          (None, 21, 21, 64)        18496     \n",
      "                                                                 \n",
      " batch_normalization_13 (Ba  (None, 21, 21, 64)        256       \n",
      " tchNormalization)                                               \n",
      "                                                                 \n",
      " max_pooling2d_13 (MaxPooli  (None, 10, 10, 64)        0         \n",
      " ng2D)                                                           \n",
      "                                                                 \n",
      " dropout_16 (Dropout)        (None, 10, 10, 64)        0         \n",
      "                                                                 \n",
      " conv2d_14 (Conv2D)          (None, 8, 8, 128)         73856     \n",
      "                                                                 \n",
      " batch_normalization_14 (Ba  (None, 8, 8, 128)         512       \n",
      " tchNormalization)                                               \n",
      "                                                                 \n",
      " max_pooling2d_14 (MaxPooli  (None, 4, 4, 128)         0         \n",
      " ng2D)                                                           \n",
      "                                                                 \n",
      " dropout_17 (Dropout)        (None, 4, 4, 128)         0         \n",
      "                                                                 \n",
      " conv2d_15 (Conv2D)          (None, 2, 2, 256)         295168    \n",
      "                                                                 \n",
      " batch_normalization_15 (Ba  (None, 2, 2, 256)         1024      \n",
      " tchNormalization)                                               \n",
      "                                                                 \n",
      " max_pooling2d_15 (MaxPooli  (None, 1, 1, 256)         0         \n",
      " ng2D)                                                           \n",
      "                                                                 \n",
      " dropout_18 (Dropout)        (None, 1, 1, 256)         0         \n",
      "                                                                 \n",
      " flatten_3 (Flatten)         (None, 256)               0         \n",
      "                                                                 \n",
      " dense_6 (Dense)             (None, 1024)              263168    \n",
      "                                                                 \n",
      " dropout_19 (Dropout)        (None, 1024)              0         \n",
      "                                                                 \n",
      " dense_7 (Dense)             (None, 6)                 6150      \n",
      "                                                                 \n",
      "=================================================================\n",
      "Total params: 659078 (2.51 MB)\n",
      "Trainable params: 658118 (2.51 MB)\n",
      "Non-trainable params: 960 (3.75 KB)\n",
      "_________________________________________________________________\n"
     ]
    }
   ],
   "source": [
    "model1_cnn_dropout_aug=Sequential()\n",
    "\n",
    "model1_cnn_dropout_aug.add(Conv2D(filters = 32, kernel_size = 3, activation = 'relu',input_shape = [48,48,1]))\n",
    "model1_cnn_dropout_aug.add(BatchNormalization())\n",
    "model1_cnn_dropout_aug.add(MaxPooling2D(pool_size = 2, strides = 2))\n",
    "model1_cnn_dropout_aug.add(Dropout(0.1))  # Add a Dropout layer\n",
    "\n",
    "model1_cnn_dropout_aug.add(Conv2D(filters = 64, kernel_size = 3, activation = 'relu',input_shape = [48,48,1]))\n",
    "model1_cnn_dropout_aug.add(BatchNormalization())\n",
    "model1_cnn_dropout_aug.add(MaxPooling2D(pool_size = 2, strides = 2))\n",
    "model1_cnn_dropout_aug.add(Dropout(0.15))  # Add a Dropout layer\n",
    "\n",
    "model1_cnn_dropout_aug.add(Conv2D(filters = 128, kernel_size = 3, activation = 'relu',input_shape = [48,48,1]))\n",
    "model1_cnn_dropout_aug.add(BatchNormalization())\n",
    "model1_cnn_dropout_aug.add(MaxPooling2D(pool_size = 2, strides = 2))\n",
    "model1_cnn_dropout_aug.add(Dropout(0.20))  # Add a Dropout layer\n",
    "\n",
    "model1_cnn_dropout_aug.add(Conv2D(filters = 256, kernel_size = 3, activation = 'relu',input_shape = [48,48,1]))\n",
    "model1_cnn_dropout_aug.add(BatchNormalization())\n",
    "model1_cnn_dropout_aug.add(MaxPooling2D(pool_size = 2, strides = 2))\n",
    "model1_cnn_dropout_aug.add(Dropout(0.25))  # Add a Dropout layer\n",
    "\n",
    "\n",
    "model1_cnn_dropout_aug.add(Flatten())\n",
    "\n",
    "model1_cnn_dropout_aug.add(Dense(1024,activation='relu'))\n",
    "model1_cnn_dropout_aug.add(Dropout(0.50))  # Add a Dropout layer\n",
    "model1_cnn_dropout_aug.add(Dense(6,activation='softmax'))\n",
    "\n",
    "model1_cnn_dropout_aug.summary()\n"
   ]
  },
  {
   "cell_type": "code",
   "execution_count": 19,
   "metadata": {},
   "outputs": [
    {
     "name": "stdout",
     "output_type": "stream",
     "text": [
      "Epoch 1/20\n",
      "198/198 [==============================] - 42s 200ms/step - loss: 2.0594 - accuracy: 0.2320 - val_loss: 2.2597 - val_accuracy: 0.1846\n",
      "Epoch 2/20\n",
      "198/198 [==============================] - 36s 183ms/step - loss: 1.7021 - accuracy: 0.3089 - val_loss: 2.5552 - val_accuracy: 0.1860\n",
      "Epoch 3/20\n",
      "198/198 [==============================] - 29s 148ms/step - loss: 1.5643 - accuracy: 0.3691 - val_loss: 1.8230 - val_accuracy: 0.3329\n",
      "Epoch 4/20\n",
      "198/198 [==============================] - 30s 151ms/step - loss: 1.4835 - accuracy: 0.4140 - val_loss: 1.4278 - val_accuracy: 0.4385\n",
      "Epoch 5/20\n",
      "198/198 [==============================] - 33s 168ms/step - loss: 1.4151 - accuracy: 0.4457 - val_loss: 1.6158 - val_accuracy: 0.3986\n",
      "Epoch 6/20\n",
      "198/198 [==============================] - 35s 178ms/step - loss: 1.3705 - accuracy: 0.4626 - val_loss: 1.3996 - val_accuracy: 0.4615\n",
      "Epoch 7/20\n",
      "198/198 [==============================] - 36s 183ms/step - loss: 1.3221 - accuracy: 0.4979 - val_loss: 1.3282 - val_accuracy: 0.5049\n",
      "Epoch 8/20\n",
      "198/198 [==============================] - 35s 178ms/step - loss: 1.2842 - accuracy: 0.5053 - val_loss: 1.4328 - val_accuracy: 0.4685\n",
      "Epoch 9/20\n",
      "198/198 [==============================] - 33s 167ms/step - loss: 1.2315 - accuracy: 0.5227 - val_loss: 1.6951 - val_accuracy: 0.4147\n",
      "Epoch 10/20\n",
      "198/198 [==============================] - 32s 160ms/step - loss: 1.1973 - accuracy: 0.5456 - val_loss: 1.4153 - val_accuracy: 0.4441\n",
      "Epoch 11/20\n",
      "198/198 [==============================] - 31s 158ms/step - loss: 1.1404 - accuracy: 0.5660 - val_loss: 1.3719 - val_accuracy: 0.4902\n",
      "Epoch 12/20\n",
      "198/198 [==============================] - 31s 157ms/step - loss: 1.0981 - accuracy: 0.5822 - val_loss: 1.5084 - val_accuracy: 0.4895\n",
      "Epoch 13/20\n",
      "198/198 [==============================] - 31s 158ms/step - loss: 1.0455 - accuracy: 0.5935 - val_loss: 1.4228 - val_accuracy: 0.5133\n",
      "Epoch 14/20\n",
      "198/198 [==============================] - 33s 167ms/step - loss: 1.0336 - accuracy: 0.6059 - val_loss: 1.4069 - val_accuracy: 0.4888\n",
      "Epoch 15/20\n",
      "198/198 [==============================] - 34s 169ms/step - loss: 0.9734 - accuracy: 0.6358 - val_loss: 1.5276 - val_accuracy: 0.4958\n",
      "Epoch 16/20\n",
      "198/198 [==============================] - 33s 169ms/step - loss: 0.9482 - accuracy: 0.6388 - val_loss: 1.4818 - val_accuracy: 0.4741\n",
      "Epoch 17/20\n",
      "198/198 [==============================] - 33s 169ms/step - loss: 0.8975 - accuracy: 0.6638 - val_loss: 1.5375 - val_accuracy: 0.4986\n",
      "Epoch 18/20\n",
      "198/198 [==============================] - 33s 167ms/step - loss: 0.8635 - accuracy: 0.6793 - val_loss: 1.7407 - val_accuracy: 0.4706\n",
      "Epoch 19/20\n",
      "198/198 [==============================] - 33s 168ms/step - loss: 0.8333 - accuracy: 0.6918 - val_loss: 1.8417 - val_accuracy: 0.4196\n",
      "Epoch 20/20\n",
      "198/198 [==============================] - 33s 167ms/step - loss: 0.7998 - accuracy: 0.6975 - val_loss: 1.6589 - val_accuracy: 0.5161\n"
     ]
    },
    {
     "data": {
      "text/plain": [
       "<keras.src.callbacks.History at 0x2678ccd1d90>"
      ]
     },
     "execution_count": 19,
     "metadata": {},
     "output_type": "execute_result"
    }
   ],
   "source": [
    "model1_cnn_dropout_aug.compile(optimizer='adam',loss='categorical_crossentropy',metrics=['accuracy'])\n",
    "model1_cnn_dropout_aug.fit(x=training_set_model1_aug,validation_data=val_model1, epochs=20)"
   ]
  },
  {
   "cell_type": "code",
   "execution_count": 20,
   "metadata": {},
   "outputs": [
    {
     "name": "stdout",
     "output_type": "stream",
     "text": [
      "Model: \"sequential_4\"\n",
      "_________________________________________________________________\n",
      " Layer (type)                Output Shape              Param #   \n",
      "=================================================================\n",
      " conv2d_16 (Conv2D)          (None, 46, 46, 32)        320       \n",
      "                                                                 \n",
      " batch_normalization_16 (Ba  (None, 46, 46, 32)        128       \n",
      " tchNormalization)                                               \n",
      "                                                                 \n",
      " max_pooling2d_16 (MaxPooli  (None, 23, 23, 32)        0         \n",
      " ng2D)                                                           \n",
      "                                                                 \n",
      " dropout_20 (Dropout)        (None, 23, 23, 32)        0         \n",
      "                                                                 \n",
      " conv2d_17 (Conv2D)          (None, 21, 21, 64)        18496     \n",
      "                                                                 \n",
      " batch_normalization_17 (Ba  (None, 21, 21, 64)        256       \n",
      " tchNormalization)                                               \n",
      "                                                                 \n",
      " max_pooling2d_17 (MaxPooli  (None, 10, 10, 64)        0         \n",
      " ng2D)                                                           \n",
      "                                                                 \n",
      " dropout_21 (Dropout)        (None, 10, 10, 64)        0         \n",
      "                                                                 \n",
      " conv2d_18 (Conv2D)          (None, 8, 8, 128)         73856     \n",
      "                                                                 \n",
      " batch_normalization_18 (Ba  (None, 8, 8, 128)         512       \n",
      " tchNormalization)                                               \n",
      "                                                                 \n",
      " max_pooling2d_18 (MaxPooli  (None, 4, 4, 128)         0         \n",
      " ng2D)                                                           \n",
      "                                                                 \n",
      " dropout_22 (Dropout)        (None, 4, 4, 128)         0         \n",
      "                                                                 \n",
      " conv2d_19 (Conv2D)          (None, 2, 2, 256)         295168    \n",
      "                                                                 \n",
      " batch_normalization_19 (Ba  (None, 2, 2, 256)         1024      \n",
      " tchNormalization)                                               \n",
      "                                                                 \n",
      " max_pooling2d_19 (MaxPooli  (None, 1, 1, 256)         0         \n",
      " ng2D)                                                           \n",
      "                                                                 \n",
      " dropout_23 (Dropout)        (None, 1, 1, 256)         0         \n",
      "                                                                 \n",
      " flatten_4 (Flatten)         (None, 256)               0         \n",
      "                                                                 \n",
      " dense_8 (Dense)             (None, 1024)              263168    \n",
      "                                                                 \n",
      " dropout_24 (Dropout)        (None, 1024)              0         \n",
      "                                                                 \n",
      " dense_9 (Dense)             (None, 6)                 6150      \n",
      "                                                                 \n",
      "=================================================================\n",
      "Total params: 659078 (2.51 MB)\n",
      "Trainable params: 658118 (2.51 MB)\n",
      "Non-trainable params: 960 (3.75 KB)\n",
      "_________________________________________________________________\n"
     ]
    }
   ],
   "source": [
    "model2_cnn_dropout_aug=Sequential()\n",
    "\n",
    "model2_cnn_dropout_aug.add(Conv2D(filters = 32, kernel_size = 3, activation = 'relu',input_shape = [48,48,1]))\n",
    "model2_cnn_dropout_aug.add(BatchNormalization())\n",
    "model2_cnn_dropout_aug.add(MaxPooling2D(pool_size = 2, strides = 2))\n",
    "model2_cnn_dropout_aug.add(Dropout(0.1))  # Add a Dropout layer\n",
    "\n",
    "model2_cnn_dropout_aug.add(Conv2D(filters = 64, kernel_size = 3, activation = 'relu',input_shape = [48,48,1]))\n",
    "model2_cnn_dropout_aug.add(BatchNormalization())\n",
    "model2_cnn_dropout_aug.add(MaxPooling2D(pool_size = 2, strides = 2))\n",
    "model2_cnn_dropout_aug.add(Dropout(0.15))  # Add a Dropout layer\n",
    "\n",
    "model2_cnn_dropout_aug.add(Conv2D(filters = 128, kernel_size = 3, activation = 'relu',input_shape = [48,48,1]))\n",
    "model2_cnn_dropout_aug.add(BatchNormalization())\n",
    "model2_cnn_dropout_aug.add(MaxPooling2D(pool_size = 2, strides = 2))\n",
    "model2_cnn_dropout_aug.add(Dropout(0.20))  # Add a Dropout layer\n",
    "\n",
    "model2_cnn_dropout_aug.add(Conv2D(filters = 256, kernel_size = 3, activation = 'relu',input_shape = [48,48,1]))\n",
    "model2_cnn_dropout_aug.add(BatchNormalization())\n",
    "model2_cnn_dropout_aug.add(MaxPooling2D(pool_size = 2, strides = 2))\n",
    "model2_cnn_dropout_aug.add(Dropout(0.25))  # Add a Dropout layer\n",
    "\n",
    "\n",
    "model2_cnn_dropout_aug.add(Flatten())\n",
    "\n",
    "model2_cnn_dropout_aug.add(Dense(1024,activation='relu'))\n",
    "model2_cnn_dropout_aug.add(Dropout(0.50))  # Add a Dropout layer\n",
    "model2_cnn_dropout_aug.add(Dense(6,activation='softmax'))\n",
    "\n",
    "model2_cnn_dropout_aug.summary()"
   ]
  },
  {
   "cell_type": "code",
   "execution_count": 21,
   "metadata": {},
   "outputs": [
    {
     "name": "stdout",
     "output_type": "stream",
     "text": [
      "Epoch 1/20\n",
      "189/189 [==============================] - 36s 167ms/step - loss: 2.0106 - accuracy: 0.2426 - val_loss: 2.5994 - val_accuracy: 0.1429\n",
      "Epoch 2/20\n",
      "189/189 [==============================] - 30s 159ms/step - loss: 1.6782 - accuracy: 0.3125 - val_loss: 2.3059 - val_accuracy: 0.2540\n",
      "Epoch 3/20\n",
      "189/189 [==============================] - 30s 161ms/step - loss: 1.5505 - accuracy: 0.3806 - val_loss: 1.5695 - val_accuracy: 0.4105\n",
      "Epoch 4/20\n",
      "189/189 [==============================] - 30s 161ms/step - loss: 1.4649 - accuracy: 0.4102 - val_loss: 1.4008 - val_accuracy: 0.4755\n",
      "Epoch 5/20\n",
      "189/189 [==============================] - 30s 160ms/step - loss: 1.4338 - accuracy: 0.4239 - val_loss: 1.3496 - val_accuracy: 0.4863\n",
      "Epoch 6/20\n",
      "189/189 [==============================] - 30s 160ms/step - loss: 1.3822 - accuracy: 0.4554 - val_loss: 1.5001 - val_accuracy: 0.4113\n",
      "Epoch 7/20\n",
      "189/189 [==============================] - 31s 161ms/step - loss: 1.3334 - accuracy: 0.4706 - val_loss: 1.6431 - val_accuracy: 0.4062\n",
      "Epoch 8/20\n",
      "189/189 [==============================] - 31s 166ms/step - loss: 1.2993 - accuracy: 0.4902 - val_loss: 1.3647 - val_accuracy: 0.4913\n",
      "Epoch 9/20\n",
      "189/189 [==============================] - 32s 170ms/step - loss: 1.2457 - accuracy: 0.5202 - val_loss: 1.2852 - val_accuracy: 0.5231\n",
      "Epoch 10/20\n",
      "189/189 [==============================] - 34s 180ms/step - loss: 1.2378 - accuracy: 0.5150 - val_loss: 1.6261 - val_accuracy: 0.3687\n",
      "Epoch 11/20\n",
      "189/189 [==============================] - 33s 174ms/step - loss: 1.1602 - accuracy: 0.5476 - val_loss: 1.3269 - val_accuracy: 0.4978\n",
      "Epoch 12/20\n",
      "189/189 [==============================] - 33s 174ms/step - loss: 1.1473 - accuracy: 0.5589 - val_loss: 1.2871 - val_accuracy: 0.5498\n",
      "Epoch 13/20\n",
      "189/189 [==============================] - 32s 169ms/step - loss: 1.0959 - accuracy: 0.5812 - val_loss: 1.3855 - val_accuracy: 0.5130\n",
      "Epoch 14/20\n",
      "189/189 [==============================] - 32s 167ms/step - loss: 1.0593 - accuracy: 0.5901 - val_loss: 1.3250 - val_accuracy: 0.5202\n",
      "Epoch 15/20\n",
      "189/189 [==============================] - 31s 163ms/step - loss: 1.0095 - accuracy: 0.6176 - val_loss: 1.2594 - val_accuracy: 0.5483\n",
      "Epoch 16/20\n",
      "189/189 [==============================] - 31s 166ms/step - loss: 0.9505 - accuracy: 0.6346 - val_loss: 1.5716 - val_accuracy: 0.4820\n",
      "Epoch 17/20\n",
      "189/189 [==============================] - 31s 163ms/step - loss: 0.9422 - accuracy: 0.6443 - val_loss: 1.3729 - val_accuracy: 0.5519\n",
      "Epoch 18/20\n",
      "189/189 [==============================] - 31s 165ms/step - loss: 0.8970 - accuracy: 0.6624 - val_loss: 1.7698 - val_accuracy: 0.4906\n",
      "Epoch 19/20\n",
      "189/189 [==============================] - 31s 165ms/step - loss: 0.8493 - accuracy: 0.6774 - val_loss: 1.4007 - val_accuracy: 0.5152\n",
      "Epoch 20/20\n",
      "189/189 [==============================] - 31s 165ms/step - loss: 0.8061 - accuracy: 0.6958 - val_loss: 1.5620 - val_accuracy: 0.5152\n"
     ]
    },
    {
     "data": {
      "text/plain": [
       "<keras.src.callbacks.History at 0x2678985f790>"
      ]
     },
     "execution_count": 21,
     "metadata": {},
     "output_type": "execute_result"
    }
   ],
   "source": [
    "model2_cnn_dropout_aug.compile(optimizer='adam',loss='categorical_crossentropy',metrics=['accuracy'])\n",
    "model2_cnn_dropout_aug.fit(x=training_set_model2_aug,validation_data=val_model2, epochs=20)"
   ]
  },
  {
   "cell_type": "code",
   "execution_count": 22,
   "metadata": {},
   "outputs": [
    {
     "name": "stdout",
     "output_type": "stream",
     "text": [
      "19/19 [==============================] - 11s 571ms/step - loss: 1.8772 - accuracy: 0.4881\n"
     ]
    },
    {
     "data": {
      "text/plain": [
       "[1.87723708152771, 0.488095223903656]"
      ]
     },
     "execution_count": 22,
     "metadata": {},
     "output_type": "execute_result"
    }
   ],
   "source": [
    "model1_cnn_dropout_aug.evaluate(model1_testing)"
   ]
  },
  {
   "cell_type": "code",
   "execution_count": 23,
   "metadata": {},
   "outputs": [
    {
     "name": "stdout",
     "output_type": "stream",
     "text": [
      "26/26 [==============================] - 4s 166ms/step - loss: 1.7442 - accuracy: 0.4524\n"
     ]
    },
    {
     "data": {
      "text/plain": [
       "[1.744171380996704, 0.45243901014328003]"
      ]
     },
     "execution_count": 23,
     "metadata": {},
     "output_type": "execute_result"
    }
   ],
   "source": [
    "model2_cnn_dropout_aug.evaluate(model2_testing)"
   ]
  },
  {
   "cell_type": "code",
   "execution_count": 24,
   "metadata": {},
   "outputs": [
    {
     "name": "stderr",
     "output_type": "stream",
     "text": [
      "c:\\Users\\Zahra\\AppData\\Local\\Programs\\Python\\Python311\\Lib\\site-packages\\keras\\src\\engine\\training.py:3079: UserWarning: You are saving your model as an HDF5 file via `model.save()`. This file format is considered legacy. We recommend using instead the native Keras format, e.g. `model.save('my_model.keras')`.\n",
      "  saving_api.save_model(\n"
     ]
    }
   ],
   "source": [
    "model1_cnn_dropout_aug.save(\"my_model1_dropout_aug.h5\", include_optimizer=True)\n",
    "model2_cnn_dropout_aug.save(\"my_model2_dropout_aug.h5\", include_optimizer=True)"
   ]
  },
  {
   "cell_type": "markdown",
   "metadata": {},
   "source": [
    "we are still in a pretty low accuracy. Maybe it is time to mess a little with the models structure. "
   ]
  },
  {
   "cell_type": "code",
   "execution_count": 7,
   "metadata": {},
   "outputs": [
    {
     "name": "stdout",
     "output_type": "stream",
     "text": [
      "Model: \"sequential_1\"\n",
      "_________________________________________________________________\n",
      " Layer (type)                Output Shape              Param #   \n",
      "=================================================================\n",
      " conv2d_3 (Conv2D)           (None, 46, 46, 32)        320       \n",
      "                                                                 \n",
      " batch_normalization_2 (Bat  (None, 46, 46, 32)        128       \n",
      " chNormalization)                                                \n",
      "                                                                 \n",
      " max_pooling2d_2 (MaxPoolin  (None, 23, 23, 32)        0         \n",
      " g2D)                                                            \n",
      "                                                                 \n",
      " dropout_2 (Dropout)         (None, 23, 23, 32)        0         \n",
      "                                                                 \n",
      " conv2d_4 (Conv2D)           (None, 21, 21, 64)        18496     \n",
      "                                                                 \n",
      " batch_normalization_3 (Bat  (None, 21, 21, 64)        256       \n",
      " chNormalization)                                                \n",
      "                                                                 \n",
      " max_pooling2d_3 (MaxPoolin  (None, 10, 10, 64)        0         \n",
      " g2D)                                                            \n",
      "                                                                 \n",
      " dropout_3 (Dropout)         (None, 10, 10, 64)        0         \n",
      "                                                                 \n",
      " conv2d_5 (Conv2D)           (None, 8, 8, 128)         73856     \n",
      "                                                                 \n",
      " batch_normalization_4 (Bat  (None, 8, 8, 128)         512       \n",
      " chNormalization)                                                \n",
      "                                                                 \n",
      " max_pooling2d_4 (MaxPoolin  (None, 4, 4, 128)         0         \n",
      " g2D)                                                            \n",
      "                                                                 \n",
      " dropout_4 (Dropout)         (None, 4, 4, 128)         0         \n",
      "                                                                 \n",
      " conv2d_6 (Conv2D)           (None, 2, 2, 256)         295168    \n",
      "                                                                 \n",
      " batch_normalization_5 (Bat  (None, 2, 2, 256)         1024      \n",
      " chNormalization)                                                \n",
      "                                                                 \n",
      " max_pooling2d_5 (MaxPoolin  (None, 1, 1, 256)         0         \n",
      " g2D)                                                            \n",
      "                                                                 \n",
      " dropout_5 (Dropout)         (None, 1, 1, 256)         0         \n",
      "                                                                 \n",
      " flatten (Flatten)           (None, 256)               0         \n",
      "                                                                 \n",
      " dense (Dense)               (None, 1024)              263168    \n",
      "                                                                 \n",
      " dropout_6 (Dropout)         (None, 1024)              0         \n",
      "                                                                 \n",
      " dense_1 (Dense)             (None, 6)                 6150      \n",
      "                                                                 \n",
      "=================================================================\n",
      "Total params: 659078 (2.51 MB)\n",
      "Trainable params: 658118 (2.51 MB)\n",
      "Non-trainable params: 960 (3.75 KB)\n",
      "_________________________________________________________________\n"
     ]
    }
   ],
   "source": [
    "model1_cnn_dropout_enhanced=Sequential()\n",
    "\n",
    "model1_cnn_dropout_enhanced.add(Conv2D(filters = 32, kernel_size = 3, activation = 'relu',input_shape = [48,48,1]))\n",
    "model1_cnn_dropout_enhanced.add(BatchNormalization())\n",
    "model1_cnn_dropout_enhanced.add(MaxPooling2D(pool_size =2, strides = 2))\n",
    "model1_cnn_dropout_enhanced.add(Dropout(0.5))  \n",
    "\n",
    "model1_cnn_dropout_enhanced.add(Conv2D(filters = 64, kernel_size = 3, activation = 'relu',input_shape = [48,48,1]))\n",
    "model1_cnn_dropout_enhanced.add(BatchNormalization())\n",
    "model1_cnn_dropout_enhanced.add(MaxPooling2D(pool_size =2, strides = 2))\n",
    "model1_cnn_dropout_enhanced.add(Dropout(0.5))  \n",
    "\n",
    "model1_cnn_dropout_enhanced.add(Conv2D(filters = 128, kernel_size = 3, activation = 'relu',input_shape = [48,48,1]))\n",
    "model1_cnn_dropout_enhanced.add(BatchNormalization())\n",
    "model1_cnn_dropout_enhanced.add(MaxPooling2D(pool_size =2, strides = 2))\n",
    "model1_cnn_dropout_enhanced.add(Dropout(0.5))  \n",
    "\n",
    "model1_cnn_dropout_enhanced.add(Conv2D(filters = 256, kernel_size = 3, activation = 'relu',input_shape = [48,48,1]))\n",
    "model1_cnn_dropout_enhanced.add(BatchNormalization())\n",
    "model1_cnn_dropout_enhanced.add(MaxPooling2D(pool_size =2, strides = 2))\n",
    "model1_cnn_dropout_enhanced.add(Dropout(0.5))  \n",
    "\n",
    "\n",
    "model1_cnn_dropout_enhanced.add(Flatten())\n",
    "\n",
    "model1_cnn_dropout_enhanced.add(Dense(1024,activation='relu'))\n",
    "model1_cnn_dropout_enhanced.add(Dropout(0.50))  # Add a Dropout layer\n",
    "model1_cnn_dropout_enhanced.add(Dense(6,activation='softmax'))\n",
    "\n",
    "model1_cnn_dropout_enhanced.summary()"
   ]
  },
  {
   "cell_type": "code",
   "execution_count": 8,
   "metadata": {},
   "outputs": [
    {
     "name": "stdout",
     "output_type": "stream",
     "text": [
      "Epoch 1/20\n",
      "198/198 [==============================] - 130s 641ms/step - loss: 2.1747 - accuracy: 0.1994 - val_loss: 2.2735 - val_accuracy: 0.1692\n",
      "Epoch 2/20\n",
      "198/198 [==============================] - 36s 183ms/step - loss: 1.8100 - accuracy: 0.2266 - val_loss: 2.0970 - val_accuracy: 0.1888\n",
      "Epoch 3/20\n",
      "198/198 [==============================] - 48s 244ms/step - loss: 1.7574 - accuracy: 0.2432 - val_loss: 1.9121 - val_accuracy: 0.1965\n",
      "Epoch 4/20\n",
      "198/198 [==============================] - 67s 337ms/step - loss: 1.7213 - accuracy: 0.2660 - val_loss: 2.6056 - val_accuracy: 0.2294\n",
      "Epoch 5/20\n",
      "198/198 [==============================] - 92s 446ms/step - loss: 1.6925 - accuracy: 0.2965 - val_loss: 2.5312 - val_accuracy: 0.2860\n",
      "Epoch 6/20\n",
      "198/198 [==============================] - 37s 188ms/step - loss: 1.6599 - accuracy: 0.3150 - val_loss: 1.6103 - val_accuracy: 0.3552\n",
      "Epoch 7/20\n",
      "198/198 [==============================] - 32s 161ms/step - loss: 1.6368 - accuracy: 0.3301 - val_loss: 1.7767 - val_accuracy: 0.3545\n",
      "Epoch 8/20\n",
      "198/198 [==============================] - 31s 154ms/step - loss: 1.6089 - accuracy: 0.3462 - val_loss: 1.6050 - val_accuracy: 0.3741\n",
      "Epoch 9/20\n",
      "198/198 [==============================] - 32s 160ms/step - loss: 1.5938 - accuracy: 0.3500 - val_loss: 1.6115 - val_accuracy: 0.4049\n",
      "Epoch 10/20\n",
      "198/198 [==============================] - 31s 157ms/step - loss: 1.5839 - accuracy: 0.3600 - val_loss: 1.6332 - val_accuracy: 0.3769\n",
      "Epoch 11/20\n",
      "198/198 [==============================] - 31s 157ms/step - loss: 1.5708 - accuracy: 0.3669 - val_loss: 1.6184 - val_accuracy: 0.4021\n",
      "Epoch 12/20\n",
      "198/198 [==============================] - 31s 159ms/step - loss: 1.5495 - accuracy: 0.3755 - val_loss: 1.5619 - val_accuracy: 0.3888\n",
      "Epoch 13/20\n",
      "198/198 [==============================] - 33s 168ms/step - loss: 1.5392 - accuracy: 0.3780 - val_loss: 1.4411 - val_accuracy: 0.4399\n",
      "Epoch 14/20\n",
      "198/198 [==============================] - 35s 175ms/step - loss: 1.5301 - accuracy: 0.3845 - val_loss: 1.4427 - val_accuracy: 0.4378\n",
      "Epoch 15/20\n",
      "198/198 [==============================] - 35s 177ms/step - loss: 1.5146 - accuracy: 0.3992 - val_loss: 1.4468 - val_accuracy: 0.4315\n",
      "Epoch 16/20\n",
      "198/198 [==============================] - 42s 210ms/step - loss: 1.4897 - accuracy: 0.4084 - val_loss: 1.5575 - val_accuracy: 0.4105\n",
      "Epoch 17/20\n",
      "198/198 [==============================] - 46s 234ms/step - loss: 1.4954 - accuracy: 0.4126 - val_loss: 1.4527 - val_accuracy: 0.4517\n",
      "Epoch 18/20\n",
      "198/198 [==============================] - 42s 210ms/step - loss: 1.4804 - accuracy: 0.4058 - val_loss: 1.4480 - val_accuracy: 0.4441\n",
      "Epoch 19/20\n",
      "198/198 [==============================] - 36s 182ms/step - loss: 1.4722 - accuracy: 0.4133 - val_loss: 1.5350 - val_accuracy: 0.4203\n",
      "Epoch 20/20\n",
      "198/198 [==============================] - 34s 171ms/step - loss: 1.4600 - accuracy: 0.4226 - val_loss: 1.3929 - val_accuracy: 0.4615\n"
     ]
    },
    {
     "data": {
      "text/plain": [
       "<keras.src.callbacks.History at 0x1dec02c84d0>"
      ]
     },
     "execution_count": 8,
     "metadata": {},
     "output_type": "execute_result"
    }
   ],
   "source": [
    "model1_cnn_dropout_enhanced.compile(optimizer='adam',loss='categorical_crossentropy',metrics=['accuracy'])\n",
    "model1_cnn_dropout_enhanced.fit(x=training_set_model1_aug,validation_data=val_model1, epochs=20)"
   ]
  },
  {
   "cell_type": "code",
   "execution_count": 9,
   "metadata": {},
   "outputs": [
    {
     "name": "stdout",
     "output_type": "stream",
     "text": [
      "19/19 [==============================] - 11s 597ms/step - loss: 1.5257 - accuracy: 0.4235\n"
     ]
    },
    {
     "data": {
      "text/plain": [
       "[1.525709867477417, 0.4234693944454193]"
      ]
     },
     "execution_count": 9,
     "metadata": {},
     "output_type": "execute_result"
    }
   ],
   "source": [
    "# Training accuracy is lowest from that model, I am not going to save it or count it. \n",
    "# i will, however, test it just to see \n",
    "model1_cnn_dropout_enhanced.evaluate(model1_testing)"
   ]
  },
  {
   "cell_type": "code",
   "execution_count": 11,
   "metadata": {},
   "outputs": [
    {
     "name": "stdout",
     "output_type": "stream",
     "text": [
      "Model: \"sequential_2\"\n",
      "_________________________________________________________________\n",
      " Layer (type)                Output Shape              Param #   \n",
      "=================================================================\n",
      " conv2d_7 (Conv2D)           (None, 46, 46, 32)        320       \n",
      "                                                                 \n",
      " batch_normalization_6 (Bat  (None, 46, 46, 32)        128       \n",
      " chNormalization)                                                \n",
      "                                                                 \n",
      " max_pooling2d_6 (MaxPoolin  (None, 23, 23, 32)        0         \n",
      " g2D)                                                            \n",
      "                                                                 \n",
      " dropout_7 (Dropout)         (None, 23, 23, 32)        0         \n",
      "                                                                 \n",
      " conv2d_8 (Conv2D)           (None, 21, 21, 64)        18496     \n",
      "                                                                 \n",
      " batch_normalization_7 (Bat  (None, 21, 21, 64)        256       \n",
      " chNormalization)                                                \n",
      "                                                                 \n",
      " max_pooling2d_7 (MaxPoolin  (None, 10, 10, 64)        0         \n",
      " g2D)                                                            \n",
      "                                                                 \n",
      " dropout_8 (Dropout)         (None, 10, 10, 64)        0         \n",
      "                                                                 \n",
      " conv2d_9 (Conv2D)           (None, 8, 8, 128)         73856     \n",
      "                                                                 \n",
      " batch_normalization_8 (Bat  (None, 8, 8, 128)         512       \n",
      " chNormalization)                                                \n",
      "                                                                 \n",
      " max_pooling2d_8 (MaxPoolin  (None, 4, 4, 128)         0         \n",
      " g2D)                                                            \n",
      "                                                                 \n",
      " dropout_9 (Dropout)         (None, 4, 4, 128)         0         \n",
      "                                                                 \n",
      " conv2d_10 (Conv2D)          (None, 2, 2, 256)         295168    \n",
      "                                                                 \n",
      " batch_normalization_9 (Bat  (None, 2, 2, 256)         1024      \n",
      " chNormalization)                                                \n",
      "                                                                 \n",
      " max_pooling2d_9 (MaxPoolin  (None, 1, 1, 256)         0         \n",
      " g2D)                                                            \n",
      "                                                                 \n",
      " dropout_10 (Dropout)        (None, 1, 1, 256)         0         \n",
      "                                                                 \n",
      " flatten_1 (Flatten)         (None, 256)               0         \n",
      "                                                                 \n",
      " dense_2 (Dense)             (None, 1024)              263168    \n",
      "                                                                 \n",
      " dropout_11 (Dropout)        (None, 1024)              0         \n",
      "                                                                 \n",
      " dense_3 (Dense)             (None, 6)                 6150      \n",
      "                                                                 \n",
      "=================================================================\n",
      "Total params: 659078 (2.51 MB)\n",
      "Trainable params: 658118 (2.51 MB)\n",
      "Non-trainable params: 960 (3.75 KB)\n",
      "_________________________________________________________________\n"
     ]
    }
   ],
   "source": [
    "# as anticipated, it does not performs well, another way I am going to try is define the learning rate \n",
    "#model1 with dropout layers \n",
    "model1_cnn_dropout_lr=Sequential()\n",
    "\n",
    "model1_cnn_dropout_lr.add(Conv2D(filters = 32, kernel_size = 3, activation = 'relu',input_shape = [48,48,1]))\n",
    "model1_cnn_dropout_lr.add(BatchNormalization())\n",
    "model1_cnn_dropout_lr.add(MaxPooling2D(pool_size = 2, strides = 2))\n",
    "model1_cnn_dropout_lr.add(Dropout(0.1))  # Add a Dropout layer\n",
    "\n",
    "model1_cnn_dropout_lr.add(Conv2D(filters = 64, kernel_size = 3, activation = 'relu',input_shape = [48,48,1]))\n",
    "model1_cnn_dropout_lr.add(BatchNormalization())\n",
    "model1_cnn_dropout_lr.add(MaxPooling2D(pool_size = 2, strides = 2))\n",
    "model1_cnn_dropout_lr.add(Dropout(0.15))  # Add a Dropout layer\n",
    "\n",
    "model1_cnn_dropout_lr.add(Conv2D(filters = 128, kernel_size = 3, activation = 'relu',input_shape = [48,48,1]))\n",
    "model1_cnn_dropout_lr.add(BatchNormalization())\n",
    "model1_cnn_dropout_lr.add(MaxPooling2D(pool_size = 2, strides = 2))\n",
    "model1_cnn_dropout_lr.add(Dropout(0.20))  # Add a Dropout layer\n",
    "\n",
    "model1_cnn_dropout_lr.add(Conv2D(filters = 256, kernel_size = 3, activation = 'relu',input_shape = [48,48,1]))\n",
    "model1_cnn_dropout_lr.add(BatchNormalization())\n",
    "model1_cnn_dropout_lr.add(MaxPooling2D(pool_size = 2, strides = 2))\n",
    "model1_cnn_dropout_lr.add(Dropout(0.25))  # Add a Dropout layer\n",
    "\n",
    "\n",
    "model1_cnn_dropout_lr.add(Flatten())\n",
    "\n",
    "model1_cnn_dropout_lr.add(Dense(1024,activation='relu'))\n",
    "model1_cnn_dropout_lr.add(Dropout(0.50))  # Add a Dropout layer\n",
    "model1_cnn_dropout_lr.add(Dense(6,activation='softmax'))\n",
    "\n",
    "model1_cnn_dropout_lr.summary()\n",
    "\n"
   ]
  },
  {
   "cell_type": "code",
   "execution_count": 17,
   "metadata": {},
   "outputs": [
    {
     "name": "stderr",
     "output_type": "stream",
     "text": [
      "WARNING:absl:`lr` is deprecated in Keras optimizer, please use `learning_rate` or use the legacy optimizer, e.g.,tf.keras.optimizers.legacy.Adam.\n"
     ]
    },
    {
     "name": "stdout",
     "output_type": "stream",
     "text": [
      "Epoch 1/20\n",
      "198/198 [==============================] - 36s 166ms/step - loss: 0.7673 - accuracy: 0.7090 - val_loss: 1.5989 - val_accuracy: 0.5385\n",
      "Epoch 2/20\n",
      "198/198 [==============================] - 31s 156ms/step - loss: 0.7413 - accuracy: 0.7150 - val_loss: 1.6260 - val_accuracy: 0.5245\n",
      "Epoch 3/20\n",
      "198/198 [==============================] - 31s 158ms/step - loss: 0.6846 - accuracy: 0.7487 - val_loss: 1.5342 - val_accuracy: 0.5154\n",
      "Epoch 4/20\n",
      "198/198 [==============================] - 50s 252ms/step - loss: 0.6571 - accuracy: 0.7612 - val_loss: 1.8647 - val_accuracy: 0.4678\n",
      "Epoch 5/20\n",
      "198/198 [==============================] - 59s 295ms/step - loss: 0.6462 - accuracy: 0.7613 - val_loss: 1.5654 - val_accuracy: 0.5273\n",
      "Epoch 6/20\n",
      "198/198 [==============================] - 58s 292ms/step - loss: 0.6352 - accuracy: 0.7685 - val_loss: 1.9609 - val_accuracy: 0.4979\n",
      "Epoch 7/20\n",
      "198/198 [==============================] - 58s 291ms/step - loss: 0.5892 - accuracy: 0.7871 - val_loss: 1.8561 - val_accuracy: 0.5133\n",
      "Epoch 8/20\n",
      "198/198 [==============================] - 57s 287ms/step - loss: 0.5782 - accuracy: 0.7846 - val_loss: 1.7638 - val_accuracy: 0.5329\n",
      "Epoch 9/20\n",
      "198/198 [==============================] - 58s 294ms/step - loss: 0.5686 - accuracy: 0.7930 - val_loss: 1.8336 - val_accuracy: 0.5021\n",
      "Epoch 10/20\n",
      "198/198 [==============================] - 58s 294ms/step - loss: 0.5749 - accuracy: 0.7935 - val_loss: 1.7632 - val_accuracy: 0.5070\n",
      "Epoch 11/20\n",
      "198/198 [==============================] - 59s 297ms/step - loss: 0.5225 - accuracy: 0.8090 - val_loss: 2.3859 - val_accuracy: 0.5021\n",
      "Epoch 12/20\n",
      "198/198 [==============================] - 57s 288ms/step - loss: 0.5108 - accuracy: 0.8210 - val_loss: 1.7327 - val_accuracy: 0.5399\n",
      "Epoch 13/20\n",
      "198/198 [==============================] - 38s 190ms/step - loss: 0.4928 - accuracy: 0.8205 - val_loss: 1.8642 - val_accuracy: 0.5462\n",
      "Epoch 14/20\n",
      "198/198 [==============================] - 31s 155ms/step - loss: 0.4952 - accuracy: 0.8237 - val_loss: 2.2309 - val_accuracy: 0.4462\n",
      "Epoch 15/20\n",
      "198/198 [==============================] - 30s 153ms/step - loss: 0.4928 - accuracy: 0.8254 - val_loss: 1.8041 - val_accuracy: 0.5259\n",
      "Epoch 16/20\n",
      "198/198 [==============================] - 30s 153ms/step - loss: 0.4683 - accuracy: 0.8289 - val_loss: 2.0150 - val_accuracy: 0.5399\n",
      "Epoch 17/20\n",
      "198/198 [==============================] - 32s 161ms/step - loss: 0.4582 - accuracy: 0.8309 - val_loss: 1.8733 - val_accuracy: 0.5294\n",
      "Epoch 18/20\n",
      "198/198 [==============================] - 35s 178ms/step - loss: 0.4250 - accuracy: 0.8439 - val_loss: 1.8192 - val_accuracy: 0.5531\n",
      "Epoch 19/20\n",
      "198/198 [==============================] - 36s 182ms/step - loss: 0.4295 - accuracy: 0.8455 - val_loss: 2.0588 - val_accuracy: 0.5399\n",
      "Epoch 20/20\n",
      "198/198 [==============================] - 38s 190ms/step - loss: 0.4558 - accuracy: 0.8390 - val_loss: 1.7902 - val_accuracy: 0.5063\n"
     ]
    },
    {
     "data": {
      "text/plain": [
       "<keras.src.callbacks.History at 0x1dec068d250>"
      ]
     },
     "execution_count": 17,
     "metadata": {},
     "output_type": "execute_result"
    }
   ],
   "source": [
    "model1_cnn_dropout_lr.compile(optimizer=Adam(lr=1e-3), loss='categorical_crossentropy', metrics=['accuracy'])\n",
    "model1_cnn_dropout_lr.fit(x=training_set_model1,validation_data=val_model1, epochs=20)\n"
   ]
  },
  {
   "cell_type": "code",
   "execution_count": 18,
   "metadata": {},
   "outputs": [
    {
     "name": "stdout",
     "output_type": "stream",
     "text": [
      "19/19 [==============================] - 11s 570ms/step - loss: 2.1444 - accuracy: 0.4592\n"
     ]
    },
    {
     "data": {
      "text/plain": [
       "[2.1443934440612793, 0.4591836631298065]"
      ]
     },
     "execution_count": 18,
     "metadata": {},
     "output_type": "execute_result"
    }
   ],
   "source": [
    "model1_cnn_dropout_lr.evaluate(model1_testing)"
   ]
  },
  {
   "cell_type": "code",
   "execution_count": 19,
   "metadata": {},
   "outputs": [
    {
     "name": "stderr",
     "output_type": "stream",
     "text": [
      "c:\\Users\\Zahra\\AppData\\Local\\Programs\\Python\\Python311\\Lib\\site-packages\\keras\\src\\engine\\training.py:3079: UserWarning: You are saving your model as an HDF5 file via `model.save()`. This file format is considered legacy. We recommend using instead the native Keras format, e.g. `model.save('my_model.keras')`.\n",
      "  saving_api.save_model(\n"
     ]
    }
   ],
   "source": [
    "model1_cnn_dropout_lr.save(\"my_model1_dropout_lr.h5\")"
   ]
  },
  {
   "cell_type": "code",
   "execution_count": 20,
   "metadata": {},
   "outputs": [
    {
     "name": "stdout",
     "output_type": "stream",
     "text": [
      "Model: \"sequential_3\"\n",
      "_________________________________________________________________\n",
      " Layer (type)                Output Shape              Param #   \n",
      "=================================================================\n",
      " conv2d_11 (Conv2D)          (None, 46, 46, 32)        320       \n",
      "                                                                 \n",
      " batch_normalization_10 (Ba  (None, 46, 46, 32)        128       \n",
      " tchNormalization)                                               \n",
      "                                                                 \n",
      " max_pooling2d_10 (MaxPooli  (None, 23, 23, 32)        0         \n",
      " ng2D)                                                           \n",
      "                                                                 \n",
      " dropout_12 (Dropout)        (None, 23, 23, 32)        0         \n",
      "                                                                 \n",
      " conv2d_12 (Conv2D)          (None, 21, 21, 64)        18496     \n",
      "                                                                 \n",
      " batch_normalization_11 (Ba  (None, 21, 21, 64)        256       \n",
      " tchNormalization)                                               \n",
      "                                                                 \n",
      " max_pooling2d_11 (MaxPooli  (None, 10, 10, 64)        0         \n",
      " ng2D)                                                           \n",
      "                                                                 \n",
      " dropout_13 (Dropout)        (None, 10, 10, 64)        0         \n",
      "                                                                 \n",
      " conv2d_13 (Conv2D)          (None, 8, 8, 128)         73856     \n",
      "                                                                 \n",
      " batch_normalization_12 (Ba  (None, 8, 8, 128)         512       \n",
      " tchNormalization)                                               \n",
      "                                                                 \n",
      " max_pooling2d_12 (MaxPooli  (None, 4, 4, 128)         0         \n",
      " ng2D)                                                           \n",
      "                                                                 \n",
      " dropout_14 (Dropout)        (None, 4, 4, 128)         0         \n",
      "                                                                 \n",
      " conv2d_14 (Conv2D)          (None, 2, 2, 256)         295168    \n",
      "                                                                 \n",
      " batch_normalization_13 (Ba  (None, 2, 2, 256)         1024      \n",
      " tchNormalization)                                               \n",
      "                                                                 \n",
      " max_pooling2d_13 (MaxPooli  (None, 1, 1, 256)         0         \n",
      " ng2D)                                                           \n",
      "                                                                 \n",
      " dropout_15 (Dropout)        (None, 1, 1, 256)         0         \n",
      "                                                                 \n",
      " flatten_2 (Flatten)         (None, 256)               0         \n",
      "                                                                 \n",
      " dense_4 (Dense)             (None, 1024)              263168    \n",
      "                                                                 \n",
      " dropout_16 (Dropout)        (None, 1024)              0         \n",
      "                                                                 \n",
      " dense_5 (Dense)             (None, 6)                 6150      \n",
      "                                                                 \n",
      "=================================================================\n",
      "Total params: 659078 (2.51 MB)\n",
      "Trainable params: 658118 (2.51 MB)\n",
      "Non-trainable params: 960 (3.75 KB)\n",
      "_________________________________________________________________\n"
     ]
    }
   ],
   "source": [
    "model2_cnn_dropout_lr=Sequential()\n",
    "\n",
    "model2_cnn_dropout_lr.add(Conv2D(filters = 32, kernel_size = 3, activation = 'relu',input_shape = [48,48,1]))\n",
    "model2_cnn_dropout_lr.add(BatchNormalization())\n",
    "model2_cnn_dropout_lr.add(MaxPooling2D(pool_size = 2, strides = 2))\n",
    "model2_cnn_dropout_lr.add(Dropout(0.1))  # Add a Dropout layer\n",
    "\n",
    "model2_cnn_dropout_lr.add(Conv2D(filters = 64, kernel_size = 3, activation = 'relu',input_shape = [48,48,1]))\n",
    "model2_cnn_dropout_lr.add(BatchNormalization())\n",
    "model2_cnn_dropout_lr.add(MaxPooling2D(pool_size = 2, strides = 2))\n",
    "model2_cnn_dropout_lr.add(Dropout(0.15))  # Add a Dropout layer\n",
    "\n",
    "model2_cnn_dropout_lr.add(Conv2D(filters = 128, kernel_size = 3, activation = 'relu',input_shape = [48,48,1]))\n",
    "model2_cnn_dropout_lr.add(BatchNormalization())\n",
    "model2_cnn_dropout_lr.add(MaxPooling2D(pool_size = 2, strides = 2))\n",
    "model2_cnn_dropout_lr.add(Dropout(0.20))  # Add a Dropout layer\n",
    "\n",
    "model2_cnn_dropout_lr.add(Conv2D(filters = 256, kernel_size = 3, activation = 'relu',input_shape = [48,48,1]))\n",
    "model2_cnn_dropout_lr.add(BatchNormalization())\n",
    "model2_cnn_dropout_lr.add(MaxPooling2D(pool_size = 2, strides = 2))\n",
    "model2_cnn_dropout_lr.add(Dropout(0.25))  # Add a Dropout layer\n",
    "\n",
    "\n",
    "model2_cnn_dropout_lr.add(Flatten())\n",
    "\n",
    "model2_cnn_dropout_lr.add(Dense(1024,activation='relu'))\n",
    "model2_cnn_dropout_lr.add(Dropout(0.50))  # Add a Dropout layer\n",
    "model2_cnn_dropout_lr.add(Dense(6,activation='softmax'))\n",
    "\n",
    "model2_cnn_dropout_lr.summary()\n"
   ]
  },
  {
   "cell_type": "code",
   "execution_count": 21,
   "metadata": {},
   "outputs": [
    {
     "name": "stderr",
     "output_type": "stream",
     "text": [
      "WARNING:absl:`lr` is deprecated in Keras optimizer, please use `learning_rate` or use the legacy optimizer, e.g.,tf.keras.optimizers.legacy.Adam.\n"
     ]
    },
    {
     "name": "stdout",
     "output_type": "stream",
     "text": [
      "Epoch 1/20\n",
      "189/189 [==============================] - 183s 934ms/step - loss: 2.0148 - accuracy: 0.2437 - val_loss: 2.6191 - val_accuracy: 0.2540\n",
      "Epoch 2/20\n",
      "189/189 [==============================] - 30s 159ms/step - loss: 1.6809 - accuracy: 0.3203 - val_loss: 2.6696 - val_accuracy: 0.2540\n",
      "Epoch 3/20\n",
      "189/189 [==============================] - 30s 158ms/step - loss: 1.5572 - accuracy: 0.3684 - val_loss: 2.5728 - val_accuracy: 0.3066\n",
      "Epoch 4/20\n",
      "189/189 [==============================] - 30s 157ms/step - loss: 1.4750 - accuracy: 0.4109 - val_loss: 1.7057 - val_accuracy: 0.4423\n",
      "Epoch 5/20\n",
      "189/189 [==============================] - 30s 161ms/step - loss: 1.4171 - accuracy: 0.4344 - val_loss: 1.3895 - val_accuracy: 0.4711\n",
      "Epoch 6/20\n",
      "189/189 [==============================] - 31s 162ms/step - loss: 1.3558 - accuracy: 0.4623 - val_loss: 1.5485 - val_accuracy: 0.4885\n",
      "Epoch 7/20\n",
      "189/189 [==============================] - 33s 172ms/step - loss: 1.3133 - accuracy: 0.4840 - val_loss: 1.2863 - val_accuracy: 0.5260\n",
      "Epoch 8/20\n",
      "189/189 [==============================] - 35s 184ms/step - loss: 1.2716 - accuracy: 0.5033 - val_loss: 2.1489 - val_accuracy: 0.3694\n",
      "Epoch 9/20\n",
      "189/189 [==============================] - 30s 160ms/step - loss: 1.2222 - accuracy: 0.5207 - val_loss: 1.7071 - val_accuracy: 0.4589\n",
      "Epoch 10/20\n",
      "189/189 [==============================] - 30s 157ms/step - loss: 1.1737 - accuracy: 0.5455 - val_loss: 1.3017 - val_accuracy: 0.5152\n",
      "Epoch 11/20\n",
      "189/189 [==============================] - 32s 168ms/step - loss: 1.1385 - accuracy: 0.5559 - val_loss: 1.4922 - val_accuracy: 0.4582\n",
      "Epoch 12/20\n",
      "189/189 [==============================] - 34s 179ms/step - loss: 1.1067 - accuracy: 0.5728 - val_loss: 1.2495 - val_accuracy: 0.5512\n",
      "Epoch 13/20\n",
      "189/189 [==============================] - 34s 179ms/step - loss: 1.0581 - accuracy: 0.5997 - val_loss: 1.4770 - val_accuracy: 0.4964\n",
      "Epoch 14/20\n",
      "189/189 [==============================] - 34s 180ms/step - loss: 1.0046 - accuracy: 0.6187 - val_loss: 1.3936 - val_accuracy: 0.5123\n",
      "Epoch 15/20\n",
      "189/189 [==============================] - 35s 184ms/step - loss: 0.9584 - accuracy: 0.6326 - val_loss: 1.2471 - val_accuracy: 0.5620\n",
      "Epoch 16/20\n",
      "189/189 [==============================] - 34s 179ms/step - loss: 0.9063 - accuracy: 0.6630 - val_loss: 1.7006 - val_accuracy: 0.4560\n",
      "Epoch 17/20\n",
      "189/189 [==============================] - 33s 176ms/step - loss: 0.9042 - accuracy: 0.6629 - val_loss: 1.6756 - val_accuracy: 0.4726\n",
      "Epoch 18/20\n",
      "189/189 [==============================] - 32s 168ms/step - loss: 0.8703 - accuracy: 0.6663 - val_loss: 1.2916 - val_accuracy: 0.5541\n",
      "Epoch 19/20\n",
      "189/189 [==============================] - 32s 168ms/step - loss: 0.8134 - accuracy: 0.7047 - val_loss: 1.3960 - val_accuracy: 0.5447\n",
      "Epoch 20/20\n",
      "189/189 [==============================] - 32s 171ms/step - loss: 0.7815 - accuracy: 0.7083 - val_loss: 1.3963 - val_accuracy: 0.5368\n"
     ]
    },
    {
     "data": {
      "text/plain": [
       "<keras.src.callbacks.History at 0x1dec3761e10>"
      ]
     },
     "execution_count": 21,
     "metadata": {},
     "output_type": "execute_result"
    }
   ],
   "source": [
    "model2_cnn_dropout_lr.compile(optimizer=Adam(lr=1e-3, weight_decay=0.01), loss='categorical_crossentropy', metrics=['accuracy'])\n",
    "model2_cnn_dropout_lr.fit(x=training_set_model2,validation_data=val_model2, epochs=20)\n"
   ]
  },
  {
   "cell_type": "code",
   "execution_count": 30,
   "metadata": {},
   "outputs": [
    {
     "name": "stdout",
     "output_type": "stream",
     "text": [
      "26/26 [==============================] - 43s 2s/step - loss: 1.5551 - accuracy: 0.4866\n"
     ]
    },
    {
     "data": {
      "text/plain": [
       "[1.5551360845565796, 0.4865853786468506]"
      ]
     },
     "execution_count": 30,
     "metadata": {},
     "output_type": "execute_result"
    }
   ],
   "source": [
    "model2_cnn_dropout_lr.evaluate(model2_testing)"
   ]
  },
  {
   "cell_type": "code",
   "execution_count": 23,
   "metadata": {},
   "outputs": [
    {
     "name": "stderr",
     "output_type": "stream",
     "text": [
      "c:\\Users\\Zahra\\AppData\\Local\\Programs\\Python\\Python311\\Lib\\site-packages\\keras\\src\\engine\\training.py:3079: UserWarning: You are saving your model as an HDF5 file via `model.save()`. This file format is considered legacy. We recommend using instead the native Keras format, e.g. `model.save('my_model.keras')`.\n",
      "  saving_api.save_model(\n"
     ]
    }
   ],
   "source": [
    "model2_cnn_dropout_lr.save(\"my_model2_dropout_lr.h5\")"
   ]
  },
  {
   "cell_type": "code",
   "execution_count": 38,
   "metadata": {},
   "outputs": [
    {
     "name": "stdout",
     "output_type": "stream",
     "text": [
      "Model: \"sequential_7\"\n",
      "_________________________________________________________________\n",
      " Layer (type)                Output Shape              Param #   \n",
      "=================================================================\n",
      " conv2d_20 (Conv2D)          (None, 46, 46, 32)        320       \n",
      "                                                                 \n",
      " batch_normalization_19 (Ba  (None, 46, 46, 32)        128       \n",
      " tchNormalization)                                               \n",
      "                                                                 \n",
      " max_pooling2d_19 (MaxPooli  (None, 23, 23, 32)        0         \n",
      " ng2D)                                                           \n",
      "                                                                 \n",
      " dropout_25 (Dropout)        (None, 23, 23, 32)        0         \n",
      "                                                                 \n",
      " conv2d_21 (Conv2D)          (None, 21, 21, 64)        18496     \n",
      "                                                                 \n",
      " batch_normalization_20 (Ba  (None, 21, 21, 64)        256       \n",
      " tchNormalization)                                               \n",
      "                                                                 \n",
      " max_pooling2d_20 (MaxPooli  (None, 10, 10, 64)        0         \n",
      " ng2D)                                                           \n",
      "                                                                 \n",
      " dropout_26 (Dropout)        (None, 10, 10, 64)        0         \n",
      "                                                                 \n",
      " conv2d_22 (Conv2D)          (None, 8, 8, 128)         73856     \n",
      "                                                                 \n",
      " batch_normalization_21 (Ba  (None, 8, 8, 128)         512       \n",
      " tchNormalization)                                               \n",
      "                                                                 \n",
      " max_pooling2d_21 (MaxPooli  (None, 4, 4, 128)         0         \n",
      " ng2D)                                                           \n",
      "                                                                 \n",
      " dropout_27 (Dropout)        (None, 4, 4, 128)         0         \n",
      "                                                                 \n",
      " conv2d_23 (Conv2D)          (None, 2, 2, 256)         295168    \n",
      "                                                                 \n",
      " batch_normalization_22 (Ba  (None, 2, 2, 256)         1024      \n",
      " tchNormalization)                                               \n",
      "                                                                 \n",
      " max_pooling2d_22 (MaxPooli  (None, 1, 1, 256)         0         \n",
      " ng2D)                                                           \n",
      "                                                                 \n",
      " dropout_28 (Dropout)        (None, 1, 1, 256)         0         \n",
      "                                                                 \n",
      " flatten_6 (Flatten)         (None, 256)               0         \n",
      "                                                                 \n",
      " dense_12 (Dense)            (None, 1024)              263168    \n",
      "                                                                 \n",
      " dropout_29 (Dropout)        (None, 1024)              0         \n",
      "                                                                 \n",
      " dense_13 (Dense)            (None, 6)                 6150      \n",
      "                                                                 \n",
      "=================================================================\n",
      "Total params: 659078 (2.51 MB)\n",
      "Trainable params: 658118 (2.51 MB)\n",
      "Non-trainable params: 960 (3.75 KB)\n",
      "_________________________________________________________________\n"
     ]
    }
   ],
   "source": [
    "# trying to use weight reg\n",
    "\n",
    "model1_cnn_dropout_rg=Sequential()\n",
    "\n",
    "model1_cnn_dropout_rg.add(Conv2D(filters = 32, kernel_size = 3, activation = 'relu',input_shape = [48,48,1]))\n",
    "model1_cnn_dropout_rg.add(BatchNormalization())\n",
    "model1_cnn_dropout_rg.add(MaxPooling2D(pool_size = 2, strides = 2))\n",
    "model1_cnn_dropout_rg.add(Dropout(0.1))  # Add a Dropout layer\n",
    "\n",
    "model1_cnn_dropout_rg.add(Conv2D(filters = 64, kernel_size = 3, activation = 'relu',input_shape = [48,48,1]))\n",
    "model1_cnn_dropout_rg.add(BatchNormalization())\n",
    "model1_cnn_dropout_rg.add(MaxPooling2D(pool_size = 2, strides = 2))\n",
    "model1_cnn_dropout_rg.add(Dropout(0.15))  # Add a Dropout layer\n",
    "\n",
    "model1_cnn_dropout_rg.add(Conv2D(filters = 128, kernel_size = 3, activation = 'relu',input_shape = [48,48,1]))\n",
    "model1_cnn_dropout_rg.add(BatchNormalization())\n",
    "model1_cnn_dropout_rg.add(MaxPooling2D(pool_size = 2, strides = 2))\n",
    "model1_cnn_dropout_rg.add(Dropout(0.20))  # Add a Dropout layer\n",
    "\n",
    "model1_cnn_dropout_rg.add(Conv2D(filters = 256, kernel_size = 3, activation = 'relu',input_shape = [48,48,1]))\n",
    "model1_cnn_dropout_rg.add(BatchNormalization())\n",
    "model1_cnn_dropout_rg.add(MaxPooling2D(pool_size = 2, strides = 2))\n",
    "model1_cnn_dropout_rg.add(Dropout(0.25))  # Add a Dropout layer\n",
    "\n",
    "\n",
    "model1_cnn_dropout_rg.add(Flatten())\n",
    "\n",
    "model1_cnn_dropout_rg.add(Dense(1024, activation='relu', kernel_regularizer=l2(0.001)))\n",
    "model1_cnn_dropout_rg.add(Dropout(0.50))  # Add a Dropout layer\n",
    "model1_cnn_dropout_rg.add(Dense(6,activation='softmax',kernel_regularizer=l2(0.001)))\n",
    "\n",
    "model1_cnn_dropout_rg.summary()"
   ]
  },
  {
   "cell_type": "code",
   "execution_count": 39,
   "metadata": {},
   "outputs": [
    {
     "name": "stderr",
     "output_type": "stream",
     "text": [
      "WARNING:absl:`lr` is deprecated in Keras optimizer, please use `learning_rate` or use the legacy optimizer, e.g.,tf.keras.optimizers.legacy.Adam.\n"
     ]
    },
    {
     "name": "stdout",
     "output_type": "stream",
     "text": [
      "Epoch 1/20\n",
      "198/198 [==============================] - 135s 661ms/step - loss: 2.4453 - accuracy: 0.2239 - val_loss: 2.5473 - val_accuracy: 0.1846\n",
      "Epoch 2/20\n",
      "198/198 [==============================] - 30s 153ms/step - loss: 2.0576 - accuracy: 0.3133 - val_loss: 2.4657 - val_accuracy: 0.2063\n",
      "Epoch 3/20\n",
      "198/198 [==============================] - 29s 148ms/step - loss: 1.9041 - accuracy: 0.3693 - val_loss: 1.8684 - val_accuracy: 0.3860\n",
      "Epoch 4/20\n",
      "198/198 [==============================] - 30s 149ms/step - loss: 1.7923 - accuracy: 0.4027 - val_loss: 1.7813 - val_accuracy: 0.3923\n",
      "Epoch 5/20\n",
      "198/198 [==============================] - 31s 158ms/step - loss: 1.6980 - accuracy: 0.4310 - val_loss: 2.4261 - val_accuracy: 0.2727\n",
      "Epoch 6/20\n",
      "198/198 [==============================] - 36s 181ms/step - loss: 1.6031 - accuracy: 0.4607 - val_loss: 1.8586 - val_accuracy: 0.3685\n",
      "Epoch 7/20\n",
      "198/198 [==============================] - 45s 226ms/step - loss: 1.5276 - accuracy: 0.4814 - val_loss: 1.5432 - val_accuracy: 0.4741\n",
      "Epoch 8/20\n",
      "198/198 [==============================] - 43s 219ms/step - loss: 1.4670 - accuracy: 0.4979 - val_loss: 2.1083 - val_accuracy: 0.3587\n",
      "Epoch 9/20\n",
      "198/198 [==============================] - 38s 190ms/step - loss: 1.3946 - accuracy: 0.5274 - val_loss: 1.5601 - val_accuracy: 0.4580\n",
      "Epoch 10/20\n",
      "198/198 [==============================] - 34s 174ms/step - loss: 1.3426 - accuracy: 0.5478 - val_loss: 1.5337 - val_accuracy: 0.4846\n",
      "Epoch 11/20\n",
      "198/198 [==============================] - 34s 173ms/step - loss: 1.2966 - accuracy: 0.5630 - val_loss: 1.4767 - val_accuracy: 0.4965\n",
      "Epoch 12/20\n",
      "198/198 [==============================] - 35s 176ms/step - loss: 1.2542 - accuracy: 0.5793 - val_loss: 1.5550 - val_accuracy: 0.4720\n",
      "Epoch 13/20\n",
      "198/198 [==============================] - 35s 174ms/step - loss: 1.2205 - accuracy: 0.5923 - val_loss: 1.5452 - val_accuracy: 0.4930\n",
      "Epoch 14/20\n",
      "198/198 [==============================] - 34s 174ms/step - loss: 1.1936 - accuracy: 0.6095 - val_loss: 1.8792 - val_accuracy: 0.4287\n",
      "Epoch 15/20\n",
      "198/198 [==============================] - 36s 182ms/step - loss: 1.1400 - accuracy: 0.6220 - val_loss: 1.6468 - val_accuracy: 0.4587\n",
      "Epoch 16/20\n",
      "198/198 [==============================] - 39s 196ms/step - loss: 1.1136 - accuracy: 0.6389 - val_loss: 1.5761 - val_accuracy: 0.5063\n",
      "Epoch 17/20\n",
      "198/198 [==============================] - 39s 196ms/step - loss: 1.0597 - accuracy: 0.6578 - val_loss: 1.5026 - val_accuracy: 0.5161\n",
      "Epoch 18/20\n",
      "198/198 [==============================] - 39s 195ms/step - loss: 1.0056 - accuracy: 0.6859 - val_loss: 1.5829 - val_accuracy: 0.5077\n",
      "Epoch 19/20\n",
      "198/198 [==============================] - 41s 207ms/step - loss: 0.9946 - accuracy: 0.6929 - val_loss: 1.7079 - val_accuracy: 0.4524\n",
      "Epoch 20/20\n",
      "198/198 [==============================] - 38s 193ms/step - loss: 0.9391 - accuracy: 0.7212 - val_loss: 1.7682 - val_accuracy: 0.5035\n"
     ]
    },
    {
     "data": {
      "text/plain": [
       "<keras.src.callbacks.History at 0x1decbe6b8d0>"
      ]
     },
     "execution_count": 39,
     "metadata": {},
     "output_type": "execute_result"
    }
   ],
   "source": [
    "model1_cnn_dropout_rg.compile(optimizer=Adam(lr=1e-3), loss='categorical_crossentropy', metrics=['accuracy'])\n",
    "model1_cnn_dropout_rg.fit(x=training_set_model1,validation_data=val_model1, epochs=20)"
   ]
  },
  {
   "cell_type": "code",
   "execution_count": 40,
   "metadata": {},
   "outputs": [
    {
     "name": "stdout",
     "output_type": "stream",
     "text": [
      "19/19 [==============================] - 17s 917ms/step - loss: 1.9566 - accuracy: 0.5085\n"
     ]
    },
    {
     "data": {
      "text/plain": [
       "[1.9565701484680176, 0.5085033774375916]"
      ]
     },
     "execution_count": 40,
     "metadata": {},
     "output_type": "execute_result"
    }
   ],
   "source": [
    "model1_cnn_dropout_rg.evaluate(model1_testing)"
   ]
  },
  {
   "cell_type": "code",
   "execution_count": 41,
   "metadata": {},
   "outputs": [
    {
     "name": "stderr",
     "output_type": "stream",
     "text": [
      "c:\\Users\\Zahra\\AppData\\Local\\Programs\\Python\\Python311\\Lib\\site-packages\\keras\\src\\engine\\training.py:3079: UserWarning: You are saving your model as an HDF5 file via `model.save()`. This file format is considered legacy. We recommend using instead the native Keras format, e.g. `model.save('my_model.keras')`.\n",
      "  saving_api.save_model(\n"
     ]
    }
   ],
   "source": [
    "model1_cnn_dropout_rg.save(\"model1_cnn_dropout_rg.h5\")"
   ]
  },
  {
   "cell_type": "code",
   "execution_count": 51,
   "metadata": {},
   "outputs": [
    {
     "name": "stdout",
     "output_type": "stream",
     "text": [
      "Model: \"sequential_13\"\n",
      "_________________________________________________________________\n",
      " Layer (type)                Output Shape              Param #   \n",
      "=================================================================\n",
      " conv2d_43 (Conv2D)          (None, 46, 46, 32)        320       \n",
      "                                                                 \n",
      " batch_normalization_41 (Ba  (None, 46, 46, 32)        128       \n",
      " tchNormalization)                                               \n",
      "                                                                 \n",
      " max_pooling2d_41 (MaxPooli  (None, 23, 23, 32)        0         \n",
      " ng2D)                                                           \n",
      "                                                                 \n",
      " dropout_52 (Dropout)        (None, 23, 23, 32)        0         \n",
      "                                                                 \n",
      " conv2d_44 (Conv2D)          (None, 21, 21, 64)        18496     \n",
      "                                                                 \n",
      " batch_normalization_42 (Ba  (None, 21, 21, 64)        256       \n",
      " tchNormalization)                                               \n",
      "                                                                 \n",
      " max_pooling2d_42 (MaxPooli  (None, 10, 10, 64)        0         \n",
      " ng2D)                                                           \n",
      "                                                                 \n",
      " dropout_53 (Dropout)        (None, 10, 10, 64)        0         \n",
      "                                                                 \n",
      " conv2d_45 (Conv2D)          (None, 8, 8, 128)         73856     \n",
      "                                                                 \n",
      " batch_normalization_43 (Ba  (None, 8, 8, 128)         512       \n",
      " tchNormalization)                                               \n",
      "                                                                 \n",
      " max_pooling2d_43 (MaxPooli  (None, 4, 4, 128)         0         \n",
      " ng2D)                                                           \n",
      "                                                                 \n",
      " dropout_54 (Dropout)        (None, 4, 4, 128)         0         \n",
      "                                                                 \n",
      " flatten_11 (Flatten)        (None, 2048)              0         \n",
      "                                                                 \n",
      " dense_22 (Dense)            (None, 3000)              6147000   \n",
      "                                                                 \n",
      " dropout_55 (Dropout)        (None, 3000)              0         \n",
      "                                                                 \n",
      " dense_23 (Dense)            (None, 6)                 18006     \n",
      "                                                                 \n",
      "=================================================================\n",
      "Total params: 6258574 (23.87 MB)\n",
      "Trainable params: 6258126 (23.87 MB)\n",
      "Non-trainable params: 448 (1.75 KB)\n",
      "_________________________________________________________________\n"
     ]
    }
   ],
   "source": [
    "model1_cnn_dropout_rg_v2=Sequential()\n",
    "\n",
    "\n",
    "\n",
    "model1_cnn_dropout_rg_v2.add(Conv2D(filters = 32, kernel_size = 3, activation = 'relu',input_shape = [48,48,1]))\n",
    "model1_cnn_dropout_rg_v2.add(BatchNormalization())\n",
    "model1_cnn_dropout_rg_v2.add(MaxPooling2D(pool_size = 2, strides = 2))\n",
    "model1_cnn_dropout_rg_v2.add(Dropout(0.1))  # Add a Dropout layer\n",
    "\n",
    "model1_cnn_dropout_rg_v2.add(Conv2D(filters = 64, kernel_size = 3, activation = 'relu',input_shape = [48,48,1]))\n",
    "model1_cnn_dropout_rg_v2.add(BatchNormalization())\n",
    "model1_cnn_dropout_rg_v2.add(MaxPooling2D(pool_size = 2, strides = 2))\n",
    "model1_cnn_dropout_rg_v2.add(Dropout(0.15))  # Add a Dropout layer\n",
    "\n",
    "model1_cnn_dropout_rg_v2.add(Conv2D(filters = 128, kernel_size = 3, activation = 'relu',input_shape = [48,48,1]))\n",
    "model1_cnn_dropout_rg_v2.add(BatchNormalization())\n",
    "model1_cnn_dropout_rg_v2.add(MaxPooling2D(pool_size = 2, strides = 2))\n",
    "model1_cnn_dropout_rg_v2.add(Dropout(0.20))  # Add a Dropout layer\n",
    "\n",
    "model1_cnn_dropout_rg_v2.add(Flatten())\n",
    "\n",
    "model1_cnn_dropout_rg_v2.add(Dense(3000, activation='relu', kernel_regularizer=l2(0.01)))\n",
    "model1_cnn_dropout_rg_v2.add(Dropout(0.50))  # Add a Dropout layer\n",
    "model1_cnn_dropout_rg_v2.add(Dense(6,activation='softmax',kernel_regularizer=l2(0.01)))\n",
    "\n",
    "model1_cnn_dropout_rg_v2.summary()"
   ]
  },
  {
   "cell_type": "code",
   "execution_count": 59,
   "metadata": {},
   "outputs": [
    {
     "name": "stderr",
     "output_type": "stream",
     "text": [
      "WARNING:absl:`lr` is deprecated in Keras optimizer, please use `learning_rate` or use the legacy optimizer, e.g.,tf.keras.optimizers.legacy.Adam.\n"
     ]
    },
    {
     "name": "stdout",
     "output_type": "stream",
     "text": [
      "Epoch 1/20\n",
      "198/198 [==============================] - 46s 220ms/step - loss: 1.4539 - accuracy: 0.4789 - val_loss: 1.3532 - val_accuracy: 0.5161 - lr: 0.0010\n",
      "Epoch 2/20\n",
      "198/198 [==============================] - 45s 224ms/step - loss: 1.4315 - accuracy: 0.4789 - val_loss: 1.3663 - val_accuracy: 0.5154 - lr: 0.0010\n",
      "Epoch 3/20\n",
      "198/198 [==============================] - 45s 229ms/step - loss: 1.4347 - accuracy: 0.4860 - val_loss: 1.3287 - val_accuracy: 0.5350 - lr: 0.0010\n",
      "Epoch 4/20\n",
      "198/198 [==============================] - 49s 246ms/step - loss: 1.4183 - accuracy: 0.4857 - val_loss: 1.3735 - val_accuracy: 0.5168 - lr: 0.0010\n",
      "Epoch 5/20\n",
      "198/198 [==============================] - 49s 249ms/step - loss: 1.3971 - accuracy: 0.4934 - val_loss: 1.3396 - val_accuracy: 0.5322 - lr: 0.0010\n",
      "Epoch 6/20\n",
      "198/198 [==============================] - 45s 226ms/step - loss: 1.3963 - accuracy: 0.5045 - val_loss: 1.3628 - val_accuracy: 0.5245 - lr: 0.0010\n",
      "Epoch 7/20\n",
      "198/198 [==============================] - 44s 221ms/step - loss: 1.3878 - accuracy: 0.5080 - val_loss: 1.3591 - val_accuracy: 0.5259 - lr: 0.0010\n",
      "Epoch 8/20\n",
      "198/198 [==============================] - 44s 223ms/step - loss: 1.3810 - accuracy: 0.5099 - val_loss: 1.3226 - val_accuracy: 0.5385 - lr: 0.0010\n",
      "Epoch 9/20\n",
      "198/198 [==============================] - 102s 516ms/step - loss: 1.3750 - accuracy: 0.5156 - val_loss: 1.3539 - val_accuracy: 0.5245 - lr: 0.0010\n",
      "Epoch 10/20\n",
      "198/198 [==============================] - 61s 306ms/step - loss: 1.3625 - accuracy: 0.5055 - val_loss: 1.3163 - val_accuracy: 0.5490 - lr: 0.0010\n",
      "Epoch 11/20\n",
      "198/198 [==============================] - 42s 213ms/step - loss: 1.3551 - accuracy: 0.5285 - val_loss: 1.3152 - val_accuracy: 0.5469 - lr: 0.0010\n",
      "Epoch 12/20\n",
      "198/198 [==============================] - 42s 212ms/step - loss: 1.3600 - accuracy: 0.5172 - val_loss: 1.3181 - val_accuracy: 0.5559 - lr: 0.0010\n",
      "Epoch 13/20\n",
      "198/198 [==============================] - 42s 213ms/step - loss: 1.3550 - accuracy: 0.5270 - val_loss: 1.3566 - val_accuracy: 0.5287 - lr: 0.0010\n",
      "Epoch 14/20\n",
      "198/198 [==============================] - 42s 213ms/step - loss: 1.3530 - accuracy: 0.5243 - val_loss: 1.3354 - val_accuracy: 0.5406 - lr: 0.0010\n",
      "Epoch 15/20\n",
      "198/198 [==============================] - 42s 213ms/step - loss: 1.3502 - accuracy: 0.5263 - val_loss: 1.3506 - val_accuracy: 0.5413 - lr: 0.0010\n",
      "Epoch 16/20\n",
      "198/198 [==============================] - 44s 220ms/step - loss: 1.3418 - accuracy: 0.5398 - val_loss: 1.3432 - val_accuracy: 0.5510 - lr: 0.0010\n",
      "Epoch 17/20\n",
      "198/198 [==============================] - 45s 229ms/step - loss: 1.3146 - accuracy: 0.5442 - val_loss: 1.3396 - val_accuracy: 0.5315 - lr: 5.0000e-04\n",
      "Epoch 18/20\n",
      "198/198 [==============================] - 43s 217ms/step - loss: 1.2867 - accuracy: 0.5561 - val_loss: 1.3423 - val_accuracy: 0.5231 - lr: 5.0000e-04\n",
      "Epoch 19/20\n",
      "198/198 [==============================] - 44s 223ms/step - loss: 1.2864 - accuracy: 0.5531 - val_loss: 1.2910 - val_accuracy: 0.5517 - lr: 5.0000e-04\n",
      "Epoch 20/20\n",
      "198/198 [==============================] - 55s 280ms/step - loss: 1.2741 - accuracy: 0.5618 - val_loss: 1.3136 - val_accuracy: 0.5503 - lr: 5.0000e-04\n"
     ]
    },
    {
     "data": {
      "text/plain": [
       "<keras.src.callbacks.History at 0x1def4292750>"
      ]
     },
     "execution_count": 59,
     "metadata": {},
     "output_type": "execute_result"
    }
   ],
   "source": [
    "\n",
    "\n",
    "model1_cnn_dropout_rg_v2.compile(optimizer=Adam(lr=0.001), loss='categorical_crossentropy', metrics=['accuracy'])\n",
    "\n",
    "lr_scheduler = ReduceLROnPlateau(monitor='val_loss', factor=0.5, patience=5, min_lr=1e-6)\n",
    "model1_cnn_dropout_rg_v2.fit(x=training_set_model1_aug, validation_data=val_model1, epochs=20, callbacks=[lr_scheduler])"
   ]
  },
  {
   "cell_type": "code",
   "execution_count": 60,
   "metadata": {},
   "outputs": [
    {
     "name": "stdout",
     "output_type": "stream",
     "text": [
      "19/19 [==============================] - 26s 1s/step - loss: 1.4185 - accuracy: 0.5085\n"
     ]
    },
    {
     "data": {
      "text/plain": [
       "[1.4184811115264893, 0.5085033774375916]"
      ]
     },
     "execution_count": 60,
     "metadata": {},
     "output_type": "execute_result"
    }
   ],
   "source": [
    "model1_cnn_dropout_rg_v2.evaluate(model1_testing)"
   ]
  },
  {
   "cell_type": "code",
   "execution_count": 61,
   "metadata": {},
   "outputs": [
    {
     "name": "stderr",
     "output_type": "stream",
     "text": [
      "c:\\Users\\Zahra\\AppData\\Local\\Programs\\Python\\Python311\\Lib\\site-packages\\keras\\src\\engine\\training.py:3079: UserWarning: You are saving your model as an HDF5 file via `model.save()`. This file format is considered legacy. We recommend using instead the native Keras format, e.g. `model.save('my_model.keras')`.\n",
      "  saving_api.save_model(\n"
     ]
    }
   ],
   "source": [
    "model1_cnn_dropout_rg_v2.save(\"model1_cnn_dropout_rg_v2.h5\")"
   ]
  },
  {
   "cell_type": "markdown",
   "metadata": {},
   "source": [
    "I think this is the best it can get.. \n"
   ]
  }
 ],
 "metadata": {
  "kernelspec": {
   "display_name": "Python 3",
   "language": "python",
   "name": "python3"
  },
  "language_info": {
   "codemirror_mode": {
    "name": "ipython",
    "version": 3
   },
   "file_extension": ".py",
   "mimetype": "text/x-python",
   "name": "python",
   "nbconvert_exporter": "python",
   "pygments_lexer": "ipython3",
   "version": "3.11.0"
  }
 },
 "nbformat": 4,
 "nbformat_minor": 2
}
